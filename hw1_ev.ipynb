{
  "nbformat": 4,
  "nbformat_minor": 0,
  "metadata": {
    "colab": {
      "name": "Copy of hw1_1.ipynb.txt",
      "provenance": [],
      "collapsed_sections": [
        "xLocVTSopDBE",
        "O19TbeqQ2apV"
      ]
    },
    "kernelspec": {
      "display_name": "Python 3",
      "language": "python",
      "name": "python3"
    },
    "language_info": {
      "codemirror_mode": {
        "name": "ipython",
        "version": 3
      },
      "file_extension": ".py",
      "mimetype": "text/x-python",
      "name": "python",
      "nbconvert_exporter": "python",
      "pygments_lexer": "ipython3",
      "version": "3.8.3"
    }
  },
  "cells": [
    {
      "cell_type": "markdown",
      "metadata": {
        "id": "uLW7BK5P2aom"
      },
      "source": [
        "# Short HW1 - Preparing for the course\n",
        "### Useful python libraries, Probability, and Linear algebera\n",
        "\n",
        "## Instructions\n",
        "\n",
        "### General\n",
        "\n",
        "* **First, don't panic!**\n",
        " * This assignment seems longer than it actually is.\n",
        " * In the first part, you are mostly required to run *existing* code and complete short python commands here and there. \n",
        " * In the two other parts you need to answer overall 4 analytic questions.\n",
        " * **Note**: The other 4 *short* assignments will be shorter and will *not* require programming.\n",
        "\n",
        "* **Individually or in pairs?** Individually only.\n",
        "* **Where to ask?** In the [Piazza forum](http://piazza.com/technion.ac.il/spring2022/236756).\n",
        "* **How to submit?** In the webcourse. \n",
        "* **What to submit?** A *single* pdf file with the completed jupyter notebook (including the code, plots and other outputs) and the answers to the probability/algebra questions (Hebrew or English are both fine). \n",
        "If you worked with two pdf files, please merge them. \n",
        "Please submit the PDF file named like your ID number, e.g., `123456789.pdf`.\n",
        "* **When to submit?** Monday 04.04.2022 at 23:59.\n",
        " * **Late submissions**: each day of delay \"costs\" 5 points, up to 2 days.\n",
        "\n",
        "\n",
        "### Specific\n",
        "\n",
        "* First part: get familiar with popular python libraries useful for machine learning and data science. We will use these libraries heavily throughout the major programming assignments.\n",
        " * You should read the instructions and run the code blocks sequentially. \n",
        " In $10$ places you are reqired to complete missing python commands or answer short questions (look for the **TODO** comments, or notations like **(T3)** etc.). Try to understand the flow of this document and the code you run.\n",
        " * Start by loading the provided jupyter notebook file (*Short_HW1.ipynb*) to [Google Colab](https://colab.research.google.com/), which is a very convenient online tool for running python scripts combined with text, visual plots, and more. \n",
        " * Alternatively, you can [install jupyter](https://jupyter.org/install) locally on your computer and run the provided notebook there.\n",
        "* Second and third parts: questions on probability and linear algebra to refresh your memory and prepare for the rest of this course. \n",
        "The questions are mostly analytic but also require completing and running simple code blocks in the jupyter notebook.\n",
        " * Forgot your linear algebra? Try watching [Essence of LA](https://www.youtube.com/playlist?list=PLZHQObOWTQDPD3MizzM2xVFitgF8hE_ab) or reading [The Matrix Cookbook](http://www2.imm.dtu.dk/pubdb/views/edoc_download.php/3274/pdf/imm3274.pdf).\n",
        " * Forgot your probability? Try reading [Probability Theory Review for Machine Learning](https://see.stanford.edu/materials/aimlcs229/cs229-prob.pdf).\n",
        " * Correction: In 3.2 it says that $X\\perp Y\\Longrightarrow\\text{Var}(X+Y)=\\text{Var}(X)\\text{Var}(Y)$ but it should say $X\\perp Y\\Longrightarrow\\text{Var}(X+Y)=\\text{Var}(X)+\\text{Var}(Y)$."
      ]
    },
    {
      "cell_type": "markdown",
      "source": [
        "### Important: How to submit the notebook's output?\n",
        "\n",
        "You should only submit PDF file(s).\n",
        "In the print dialog of your browser, you can choose to `Save as PDF`. However, notice that some of the outputs may be cropped (become invisible), which can harm your grade.\n",
        "\n",
        "To prevent this from happening, tune the \"scale\" of the printed file, to fit in the *entire* output. For instance, in Chrome you should lower the value in `More settings->Scale->Custom` to contain the entire output (50%~ often work well).\n",
        "\n",
        "\n",
        "# Good luck!\n",
        "\n",
        "---"
      ],
      "metadata": {
        "id": "xLocVTSopDBE"
      }
    },
    {
      "cell_type": "markdown",
      "source": [
        "# What is pandas?\n",
        "Python library for Data manipulation and Analysis\n",
        " - Provide expressive data structures designed to make working with ג€relationalג€ or ג€labeledג€ data both easy and intuitive.\n",
        " - Aims to be the fundamental high-level building block for doing practical, real world data analysis in Python.\n",
        " - Built on top of NumPy and is intended to integrate well within a scientific computing.\n",
        " - Inspired by R and Excel.\n",
        " \n",
        "Pandas is well suited for many different kinds of data:\n",
        "- **Tabular data** with heterogeneously-typed columns, as in an SQL table or Excel spreadsheet\n",
        "- Ordered and unordered (not necessarily fixed-frequency) **time series data**.\n",
        "- **Arbitrary matrix data** (homogeneously typed or heterogeneous) with row and column labels\n",
        "- Any other form of observational / statistical data sets (can be unlabeled)\n",
        "\n",
        "Two primary data structures\n",
        "- **Series** (1-dimensional) ג€“ Similar to a column in Excelג€™s spreadsheet\n",
        "- **Data Frame** (2-dimensional) ג€“ Similar to Rג€™s data frame\n",
        "\n",
        "A few of the things that Pandas does well\n",
        "- Easy handling of **missing data** (represented as NaN)\n",
        "- Automatic and explicit **data alignment**\n",
        "- Read and Analyze **CSV** , Excel Sheets Easily\n",
        "- Operations\n",
        "- Filtering, Group By, Merging, Slicing and Dicing, Pivoting and Reshaping\n",
        "- Plotting graphs\n",
        "\n",
        "Pandas is very useful for interactive data exploration at the data preparation stage of a project\n",
        "\n",
        "The offical guide to Pandas can be found [here](http://pandas-docs.github.io/pandas-docs-travis/10min.html)"
      ],
      "metadata": {
        "id": "T4ZfGFIGpftc"
      }
    },
    {
      "cell_type": "markdown",
      "metadata": {
        "id": "TDYQN4Ml2aoo"
      },
      "source": [
        "## Pandas Objects"
      ]
    },
    {
      "cell_type": "code",
      "metadata": {
        "id": "Q_c5BMc-2aoq"
      },
      "source": [
        "import pandas as pd\n",
        "import numpy as np"
      ],
      "execution_count": null,
      "outputs": []
    },
    {
      "cell_type": "markdown",
      "metadata": {
        "id": "of7RnZdI2aov"
      },
      "source": [
        "**Series** is like a column in a spreadsheet."
      ]
    },
    {
      "cell_type": "code",
      "metadata": {
        "id": "ZhkFcXtD2aov",
        "colab": {
          "base_uri": "https://localhost:8080/"
        },
        "outputId": "c3b94ae4-651e-4ddb-f6a1-980805570904"
      },
      "source": [
        "s = pd.Series([1,3.2,np.nan,'string'])\n",
        "s"
      ],
      "execution_count": null,
      "outputs": [
        {
          "output_type": "execute_result",
          "data": {
            "text/plain": [
              "0         1\n",
              "1       3.2\n",
              "2       NaN\n",
              "3    string\n",
              "dtype: object"
            ]
          },
          "metadata": {},
          "execution_count": 2
        }
      ]
    },
    {
      "cell_type": "markdown",
      "metadata": {
        "id": "zNJeQjmW2ao2"
      },
      "source": [
        "**DataFrame** is like a spreadsheet ג€“ a dictionary of Series objects"
      ]
    },
    {
      "cell_type": "code",
      "metadata": {
        "id": "Y3aJeHpt2ao2",
        "colab": {
          "base_uri": "https://localhost:8080/",
          "height": 238
        },
        "outputId": "cf2ee17c-e54a-4e52-d866-091703d17be6"
      },
      "source": [
        "data = [['ABC', -3.5, 0.01], ['ABC', -2.3, 0.12], ['DEF', 1.8, 0.03],\n",
        "['DEF', 3.7, 0.01], ['GHI', 0.04, 0.43], ['GHI', -0.1, 0.67]]\n",
        "\n",
        "df = pd.DataFrame(data, columns=['gene', 'log2FC', 'pval'])\n",
        "\n",
        "df"
      ],
      "execution_count": null,
      "outputs": [
        {
          "output_type": "execute_result",
          "data": {
            "text/plain": [
              "  gene  log2FC  pval\n",
              "0  ABC   -3.50  0.01\n",
              "1  ABC   -2.30  0.12\n",
              "2  DEF    1.80  0.03\n",
              "3  DEF    3.70  0.01\n",
              "4  GHI    0.04  0.43\n",
              "5  GHI   -0.10  0.67"
            ],
            "text/html": [
              "\n",
              "  <div id=\"df-6acd7dd0-3a88-4979-be18-040073bba261\">\n",
              "    <div class=\"colab-df-container\">\n",
              "      <div>\n",
              "<style scoped>\n",
              "    .dataframe tbody tr th:only-of-type {\n",
              "        vertical-align: middle;\n",
              "    }\n",
              "\n",
              "    .dataframe tbody tr th {\n",
              "        vertical-align: top;\n",
              "    }\n",
              "\n",
              "    .dataframe thead th {\n",
              "        text-align: right;\n",
              "    }\n",
              "</style>\n",
              "<table border=\"1\" class=\"dataframe\">\n",
              "  <thead>\n",
              "    <tr style=\"text-align: right;\">\n",
              "      <th></th>\n",
              "      <th>gene</th>\n",
              "      <th>log2FC</th>\n",
              "      <th>pval</th>\n",
              "    </tr>\n",
              "  </thead>\n",
              "  <tbody>\n",
              "    <tr>\n",
              "      <th>0</th>\n",
              "      <td>ABC</td>\n",
              "      <td>-3.50</td>\n",
              "      <td>0.01</td>\n",
              "    </tr>\n",
              "    <tr>\n",
              "      <th>1</th>\n",
              "      <td>ABC</td>\n",
              "      <td>-2.30</td>\n",
              "      <td>0.12</td>\n",
              "    </tr>\n",
              "    <tr>\n",
              "      <th>2</th>\n",
              "      <td>DEF</td>\n",
              "      <td>1.80</td>\n",
              "      <td>0.03</td>\n",
              "    </tr>\n",
              "    <tr>\n",
              "      <th>3</th>\n",
              "      <td>DEF</td>\n",
              "      <td>3.70</td>\n",
              "      <td>0.01</td>\n",
              "    </tr>\n",
              "    <tr>\n",
              "      <th>4</th>\n",
              "      <td>GHI</td>\n",
              "      <td>0.04</td>\n",
              "      <td>0.43</td>\n",
              "    </tr>\n",
              "    <tr>\n",
              "      <th>5</th>\n",
              "      <td>GHI</td>\n",
              "      <td>-0.10</td>\n",
              "      <td>0.67</td>\n",
              "    </tr>\n",
              "  </tbody>\n",
              "</table>\n",
              "</div>\n",
              "      <button class=\"colab-df-convert\" onclick=\"convertToInteractive('df-6acd7dd0-3a88-4979-be18-040073bba261')\"\n",
              "              title=\"Convert this dataframe to an interactive table.\"\n",
              "              style=\"display:none;\">\n",
              "        \n",
              "  <svg xmlns=\"http://www.w3.org/2000/svg\" height=\"24px\"viewBox=\"0 0 24 24\"\n",
              "       width=\"24px\">\n",
              "    <path d=\"M0 0h24v24H0V0z\" fill=\"none\"/>\n",
              "    <path d=\"M18.56 5.44l.94 2.06.94-2.06 2.06-.94-2.06-.94-.94-2.06-.94 2.06-2.06.94zm-11 1L8.5 8.5l.94-2.06 2.06-.94-2.06-.94L8.5 2.5l-.94 2.06-2.06.94zm10 10l.94 2.06.94-2.06 2.06-.94-2.06-.94-.94-2.06-.94 2.06-2.06.94z\"/><path d=\"M17.41 7.96l-1.37-1.37c-.4-.4-.92-.59-1.43-.59-.52 0-1.04.2-1.43.59L10.3 9.45l-7.72 7.72c-.78.78-.78 2.05 0 2.83L4 21.41c.39.39.9.59 1.41.59.51 0 1.02-.2 1.41-.59l7.78-7.78 2.81-2.81c.8-.78.8-2.07 0-2.86zM5.41 20L4 18.59l7.72-7.72 1.47 1.35L5.41 20z\"/>\n",
              "  </svg>\n",
              "      </button>\n",
              "      \n",
              "  <style>\n",
              "    .colab-df-container {\n",
              "      display:flex;\n",
              "      flex-wrap:wrap;\n",
              "      gap: 12px;\n",
              "    }\n",
              "\n",
              "    .colab-df-convert {\n",
              "      background-color: #E8F0FE;\n",
              "      border: none;\n",
              "      border-radius: 50%;\n",
              "      cursor: pointer;\n",
              "      display: none;\n",
              "      fill: #1967D2;\n",
              "      height: 32px;\n",
              "      padding: 0 0 0 0;\n",
              "      width: 32px;\n",
              "    }\n",
              "\n",
              "    .colab-df-convert:hover {\n",
              "      background-color: #E2EBFA;\n",
              "      box-shadow: 0px 1px 2px rgba(60, 64, 67, 0.3), 0px 1px 3px 1px rgba(60, 64, 67, 0.15);\n",
              "      fill: #174EA6;\n",
              "    }\n",
              "\n",
              "    [theme=dark] .colab-df-convert {\n",
              "      background-color: #3B4455;\n",
              "      fill: #D2E3FC;\n",
              "    }\n",
              "\n",
              "    [theme=dark] .colab-df-convert:hover {\n",
              "      background-color: #434B5C;\n",
              "      box-shadow: 0px 1px 3px 1px rgba(0, 0, 0, 0.15);\n",
              "      filter: drop-shadow(0px 1px 2px rgba(0, 0, 0, 0.3));\n",
              "      fill: #FFFFFF;\n",
              "    }\n",
              "  </style>\n",
              "\n",
              "      <script>\n",
              "        const buttonEl =\n",
              "          document.querySelector('#df-6acd7dd0-3a88-4979-be18-040073bba261 button.colab-df-convert');\n",
              "        buttonEl.style.display =\n",
              "          google.colab.kernel.accessAllowed ? 'block' : 'none';\n",
              "\n",
              "        async function convertToInteractive(key) {\n",
              "          const element = document.querySelector('#df-6acd7dd0-3a88-4979-be18-040073bba261');\n",
              "          const dataTable =\n",
              "            await google.colab.kernel.invokeFunction('convertToInteractive',\n",
              "                                                     [key], {});\n",
              "          if (!dataTable) return;\n",
              "\n",
              "          const docLinkHtml = 'Like what you see? Visit the ' +\n",
              "            '<a target=\"_blank\" href=https://colab.research.google.com/notebooks/data_table.ipynb>data table notebook</a>'\n",
              "            + ' to learn more about interactive tables.';\n",
              "          element.innerHTML = '';\n",
              "          dataTable['output_type'] = 'display_data';\n",
              "          await google.colab.output.renderOutput(dataTable, element);\n",
              "          const docLink = document.createElement('div');\n",
              "          docLink.innerHTML = docLinkHtml;\n",
              "          element.appendChild(docLink);\n",
              "        }\n",
              "      </script>\n",
              "    </div>\n",
              "  </div>\n",
              "  "
            ]
          },
          "metadata": {},
          "execution_count": 4
        }
      ]
    },
    {
      "cell_type": "markdown",
      "metadata": {
        "id": "O19TbeqQ2apV"
      },
      "source": [
        "## Input and Output\n",
        "How do you get data into and out of Pandas as spreadsheets?\n",
        " - Pandas can work with XLS or XLSX files.\n",
        " - Can also work with CSV (comma separated values) file\n",
        " - CSV stores plain text in a tabular form\n",
        " - CSV files may have a header\n",
        " - You can use a variety of different field delimiters (rather than a ג€˜commaג€™). Check which delimiter your file is using before import!\n",
        " \n",
        "__Import to Pandas__ \n",
        " > `df = pd.read_csv('data.csv', sep='\\t', header=0)`\n",
        "\n",
        "For Excel files, it's the same thing but with read_excel\n",
        "\n",
        "__Export to text file__ \n",
        " > `df.to_csv('data.csv', sep='\\t', header=True, index=False)`\n",
        " \n",
        "The values of header and index depend on if you want to print the column and/or row names"
      ]
    },
    {
      "cell_type": "markdown",
      "metadata": {
        "id": "m2thuF1H2apW"
      },
      "source": [
        "# Case Study ג€“ Analyzing Titanic Passengers Data"
      ]
    },
    {
      "cell_type": "code",
      "metadata": {
        "id": "ff1J3-af2apW"
      },
      "source": [
        "\n",
        "import matplotlib.pyplot as plt\n",
        "%matplotlib inline\n",
        "import numpy as np\n",
        "import pandas as pd\n",
        "import os\n",
        "\n",
        "\n",
        "#set your working_dir\n",
        "working_dir = os.path.join(os.getcwd(), 'titanic')\n",
        "\n",
        "url_base = 'https://github.com/Currie32/Titanic-Kaggle-Competition/raw/master/{}.csv'\n",
        "train_url = url_base.format('train')\n",
        "test_url = url_base.format('test')\n",
        "\n",
        "# For .read_csv, always use header=0 when you know row 0 is the header row\n",
        "train = pd.read_csv(train_url, header=0)\n",
        "test = pd.read_csv(test_url, header=0)\n",
        "# You can also load a csv file from a local file rather than a URL\n"
      ],
      "execution_count": null,
      "outputs": []
    },
    {
      "cell_type": "markdown",
      "metadata": {
        "id": "8S_-4wEdUF4D"
      },
      "source": [
        "**(T1)** Use [`pandas.DataFrame.head`](https://pandas.pydata.org/pandas-docs/stable/reference/api/pandas.DataFrame.head.html) to display the top 6 rows of the `train` table\n",
        "\n",
        "\n",
        "\n"
      ]
    },
    {
      "cell_type": "code",
      "metadata": {
        "id": "N358U4JN2apY",
        "colab": {
          "base_uri": "https://localhost:8080/",
          "height": 238
        },
        "outputId": "9563f127-4103-4d55-9b05-bcbc9411eff7"
      },
      "source": [
        "# TODO: print the top 6 rows of the table\n",
        "# print(train.head(6))\n",
        "train.head(6)\n"
      ],
      "execution_count": null,
      "outputs": [
        {
          "output_type": "execute_result",
          "data": {
            "text/plain": [
              "   PassengerId  Survived  Pclass  \\\n",
              "0            1         0       3   \n",
              "1            2         1       1   \n",
              "2            3         1       3   \n",
              "3            4         1       1   \n",
              "4            5         0       3   \n",
              "5            6         0       3   \n",
              "\n",
              "                                                Name     Sex   Age  SibSp  \\\n",
              "0                            Braund, Mr. Owen Harris    male  22.0      1   \n",
              "1  Cumings, Mrs. John Bradley (Florence Briggs Th...  female  38.0      1   \n",
              "2                             Heikkinen, Miss. Laina  female  26.0      0   \n",
              "3       Futrelle, Mrs. Jacques Heath (Lily May Peel)  female  35.0      1   \n",
              "4                           Allen, Mr. William Henry    male  35.0      0   \n",
              "5                                   Moran, Mr. James    male   NaN      0   \n",
              "\n",
              "   Parch            Ticket     Fare Cabin Embarked  \n",
              "0      0         A/5 21171   7.2500   NaN        S  \n",
              "1      0          PC 17599  71.2833   C85        C  \n",
              "2      0  STON/O2. 3101282   7.9250   NaN        S  \n",
              "3      0            113803  53.1000  C123        S  \n",
              "4      0            373450   8.0500   NaN        S  \n",
              "5      0            330877   8.4583   NaN        Q  "
            ],
            "text/html": [
              "\n",
              "  <div id=\"df-36dca3b4-3b5b-463d-91e0-12fb5d94ed12\">\n",
              "    <div class=\"colab-df-container\">\n",
              "      <div>\n",
              "<style scoped>\n",
              "    .dataframe tbody tr th:only-of-type {\n",
              "        vertical-align: middle;\n",
              "    }\n",
              "\n",
              "    .dataframe tbody tr th {\n",
              "        vertical-align: top;\n",
              "    }\n",
              "\n",
              "    .dataframe thead th {\n",
              "        text-align: right;\n",
              "    }\n",
              "</style>\n",
              "<table border=\"1\" class=\"dataframe\">\n",
              "  <thead>\n",
              "    <tr style=\"text-align: right;\">\n",
              "      <th></th>\n",
              "      <th>PassengerId</th>\n",
              "      <th>Survived</th>\n",
              "      <th>Pclass</th>\n",
              "      <th>Name</th>\n",
              "      <th>Sex</th>\n",
              "      <th>Age</th>\n",
              "      <th>SibSp</th>\n",
              "      <th>Parch</th>\n",
              "      <th>Ticket</th>\n",
              "      <th>Fare</th>\n",
              "      <th>Cabin</th>\n",
              "      <th>Embarked</th>\n",
              "    </tr>\n",
              "  </thead>\n",
              "  <tbody>\n",
              "    <tr>\n",
              "      <th>0</th>\n",
              "      <td>1</td>\n",
              "      <td>0</td>\n",
              "      <td>3</td>\n",
              "      <td>Braund, Mr. Owen Harris</td>\n",
              "      <td>male</td>\n",
              "      <td>22.0</td>\n",
              "      <td>1</td>\n",
              "      <td>0</td>\n",
              "      <td>A/5 21171</td>\n",
              "      <td>7.2500</td>\n",
              "      <td>NaN</td>\n",
              "      <td>S</td>\n",
              "    </tr>\n",
              "    <tr>\n",
              "      <th>1</th>\n",
              "      <td>2</td>\n",
              "      <td>1</td>\n",
              "      <td>1</td>\n",
              "      <td>Cumings, Mrs. John Bradley (Florence Briggs Th...</td>\n",
              "      <td>female</td>\n",
              "      <td>38.0</td>\n",
              "      <td>1</td>\n",
              "      <td>0</td>\n",
              "      <td>PC 17599</td>\n",
              "      <td>71.2833</td>\n",
              "      <td>C85</td>\n",
              "      <td>C</td>\n",
              "    </tr>\n",
              "    <tr>\n",
              "      <th>2</th>\n",
              "      <td>3</td>\n",
              "      <td>1</td>\n",
              "      <td>3</td>\n",
              "      <td>Heikkinen, Miss. Laina</td>\n",
              "      <td>female</td>\n",
              "      <td>26.0</td>\n",
              "      <td>0</td>\n",
              "      <td>0</td>\n",
              "      <td>STON/O2. 3101282</td>\n",
              "      <td>7.9250</td>\n",
              "      <td>NaN</td>\n",
              "      <td>S</td>\n",
              "    </tr>\n",
              "    <tr>\n",
              "      <th>3</th>\n",
              "      <td>4</td>\n",
              "      <td>1</td>\n",
              "      <td>1</td>\n",
              "      <td>Futrelle, Mrs. Jacques Heath (Lily May Peel)</td>\n",
              "      <td>female</td>\n",
              "      <td>35.0</td>\n",
              "      <td>1</td>\n",
              "      <td>0</td>\n",
              "      <td>113803</td>\n",
              "      <td>53.1000</td>\n",
              "      <td>C123</td>\n",
              "      <td>S</td>\n",
              "    </tr>\n",
              "    <tr>\n",
              "      <th>4</th>\n",
              "      <td>5</td>\n",
              "      <td>0</td>\n",
              "      <td>3</td>\n",
              "      <td>Allen, Mr. William Henry</td>\n",
              "      <td>male</td>\n",
              "      <td>35.0</td>\n",
              "      <td>0</td>\n",
              "      <td>0</td>\n",
              "      <td>373450</td>\n",
              "      <td>8.0500</td>\n",
              "      <td>NaN</td>\n",
              "      <td>S</td>\n",
              "    </tr>\n",
              "    <tr>\n",
              "      <th>5</th>\n",
              "      <td>6</td>\n",
              "      <td>0</td>\n",
              "      <td>3</td>\n",
              "      <td>Moran, Mr. James</td>\n",
              "      <td>male</td>\n",
              "      <td>NaN</td>\n",
              "      <td>0</td>\n",
              "      <td>0</td>\n",
              "      <td>330877</td>\n",
              "      <td>8.4583</td>\n",
              "      <td>NaN</td>\n",
              "      <td>Q</td>\n",
              "    </tr>\n",
              "  </tbody>\n",
              "</table>\n",
              "</div>\n",
              "      <button class=\"colab-df-convert\" onclick=\"convertToInteractive('df-36dca3b4-3b5b-463d-91e0-12fb5d94ed12')\"\n",
              "              title=\"Convert this dataframe to an interactive table.\"\n",
              "              style=\"display:none;\">\n",
              "        \n",
              "  <svg xmlns=\"http://www.w3.org/2000/svg\" height=\"24px\"viewBox=\"0 0 24 24\"\n",
              "       width=\"24px\">\n",
              "    <path d=\"M0 0h24v24H0V0z\" fill=\"none\"/>\n",
              "    <path d=\"M18.56 5.44l.94 2.06.94-2.06 2.06-.94-2.06-.94-.94-2.06-.94 2.06-2.06.94zm-11 1L8.5 8.5l.94-2.06 2.06-.94-2.06-.94L8.5 2.5l-.94 2.06-2.06.94zm10 10l.94 2.06.94-2.06 2.06-.94-2.06-.94-.94-2.06-.94 2.06-2.06.94z\"/><path d=\"M17.41 7.96l-1.37-1.37c-.4-.4-.92-.59-1.43-.59-.52 0-1.04.2-1.43.59L10.3 9.45l-7.72 7.72c-.78.78-.78 2.05 0 2.83L4 21.41c.39.39.9.59 1.41.59.51 0 1.02-.2 1.41-.59l7.78-7.78 2.81-2.81c.8-.78.8-2.07 0-2.86zM5.41 20L4 18.59l7.72-7.72 1.47 1.35L5.41 20z\"/>\n",
              "  </svg>\n",
              "      </button>\n",
              "      \n",
              "  <style>\n",
              "    .colab-df-container {\n",
              "      display:flex;\n",
              "      flex-wrap:wrap;\n",
              "      gap: 12px;\n",
              "    }\n",
              "\n",
              "    .colab-df-convert {\n",
              "      background-color: #E8F0FE;\n",
              "      border: none;\n",
              "      border-radius: 50%;\n",
              "      cursor: pointer;\n",
              "      display: none;\n",
              "      fill: #1967D2;\n",
              "      height: 32px;\n",
              "      padding: 0 0 0 0;\n",
              "      width: 32px;\n",
              "    }\n",
              "\n",
              "    .colab-df-convert:hover {\n",
              "      background-color: #E2EBFA;\n",
              "      box-shadow: 0px 1px 2px rgba(60, 64, 67, 0.3), 0px 1px 3px 1px rgba(60, 64, 67, 0.15);\n",
              "      fill: #174EA6;\n",
              "    }\n",
              "\n",
              "    [theme=dark] .colab-df-convert {\n",
              "      background-color: #3B4455;\n",
              "      fill: #D2E3FC;\n",
              "    }\n",
              "\n",
              "    [theme=dark] .colab-df-convert:hover {\n",
              "      background-color: #434B5C;\n",
              "      box-shadow: 0px 1px 3px 1px rgba(0, 0, 0, 0.15);\n",
              "      filter: drop-shadow(0px 1px 2px rgba(0, 0, 0, 0.3));\n",
              "      fill: #FFFFFF;\n",
              "    }\n",
              "  </style>\n",
              "\n",
              "      <script>\n",
              "        const buttonEl =\n",
              "          document.querySelector('#df-36dca3b4-3b5b-463d-91e0-12fb5d94ed12 button.colab-df-convert');\n",
              "        buttonEl.style.display =\n",
              "          google.colab.kernel.accessAllowed ? 'block' : 'none';\n",
              "\n",
              "        async function convertToInteractive(key) {\n",
              "          const element = document.querySelector('#df-36dca3b4-3b5b-463d-91e0-12fb5d94ed12');\n",
              "          const dataTable =\n",
              "            await google.colab.kernel.invokeFunction('convertToInteractive',\n",
              "                                                     [key], {});\n",
              "          if (!dataTable) return;\n",
              "\n",
              "          const docLinkHtml = 'Like what you see? Visit the ' +\n",
              "            '<a target=\"_blank\" href=https://colab.research.google.com/notebooks/data_table.ipynb>data table notebook</a>'\n",
              "            + ' to learn more about interactive tables.';\n",
              "          element.innerHTML = '';\n",
              "          dataTable['output_type'] = 'display_data';\n",
              "          await google.colab.output.renderOutput(dataTable, element);\n",
              "          const docLink = document.createElement('div');\n",
              "          docLink.innerHTML = docLinkHtml;\n",
              "          element.appendChild(docLink);\n",
              "        }\n",
              "      </script>\n",
              "    </div>\n",
              "  </div>\n",
              "  "
            ]
          },
          "metadata": {},
          "execution_count": 5
        }
      ]
    },
    {
      "cell_type": "markdown",
      "metadata": {
        "id": "qJKYMsXK2apb"
      },
      "source": [
        "#### VARIABLE DESCRIPTIONS:\n",
        "**Survived** - 0 = No; 1 = Yes \n",
        "**Age** - Passenger's age \n",
        "**Pclass** - Passenger Class (1 = 1st; 2 = 2nd; 3 = 3rd) \n",
        "**SibSp** - Number of Siblings/Spouses Aboard \n",
        "**Parch** - Number of Parents/Children Aboard \n",
        "**Ticket** - Ticket Number \n",
        "**Fare** - Passenger Fare \n",
        "**Cabin** - Cabin ID \n",
        "**Embarked** - Port of Embarkation (C = Cherbourg; Q = Queenstown; S = Southampton) "
      ]
    },
    {
      "cell_type": "code",
      "metadata": {
        "id": "p4A1YqGrMfZx",
        "colab": {
          "base_uri": "https://localhost:8080/"
        },
        "outputId": "6882a7ff-a04c-4e5a-955f-6324332431c4"
      },
      "source": [
        "train.columns"
      ],
      "execution_count": null,
      "outputs": [
        {
          "output_type": "execute_result",
          "data": {
            "text/plain": [
              "Index(['PassengerId', 'Survived', 'Pclass', 'Name', 'Sex', 'Age', 'SibSp',\n",
              "       'Parch', 'Ticket', 'Fare', 'Cabin', 'Embarked'],\n",
              "      dtype='object')"
            ]
          },
          "metadata": {},
          "execution_count": 6
        }
      ]
    },
    {
      "cell_type": "markdown",
      "metadata": {
        "id": "qDaTDRy12apb"
      },
      "source": [
        "## Understanding the data (Summarizations)"
      ]
    },
    {
      "cell_type": "code",
      "metadata": {
        "id": "JlgPYAvoTbzW",
        "colab": {
          "base_uri": "https://localhost:8080/"
        },
        "outputId": "74d06b16-1801-4421-dbf7-4fc985eea09f"
      },
      "source": [
        "train.info()"
      ],
      "execution_count": null,
      "outputs": [
        {
          "output_type": "stream",
          "name": "stdout",
          "text": [
            "<class 'pandas.core.frame.DataFrame'>\n",
            "RangeIndex: 891 entries, 0 to 890\n",
            "Data columns (total 12 columns):\n",
            " #   Column       Non-Null Count  Dtype  \n",
            "---  ------       --------------  -----  \n",
            " 0   PassengerId  891 non-null    int64  \n",
            " 1   Survived     891 non-null    int64  \n",
            " 2   Pclass       891 non-null    int64  \n",
            " 3   Name         891 non-null    object \n",
            " 4   Sex          891 non-null    object \n",
            " 5   Age          714 non-null    float64\n",
            " 6   SibSp        891 non-null    int64  \n",
            " 7   Parch        891 non-null    int64  \n",
            " 8   Ticket       891 non-null    object \n",
            " 9   Fare         891 non-null    float64\n",
            " 10  Cabin        204 non-null    object \n",
            " 11  Embarked     889 non-null    object \n",
            "dtypes: float64(2), int64(5), object(5)\n",
            "memory usage: 83.7+ KB\n"
          ]
        }
      ]
    },
    {
      "cell_type": "code",
      "metadata": {
        "id": "NEN2DzRf2apc",
        "colab": {
          "base_uri": "https://localhost:8080/"
        },
        "outputId": "3d3782ff-8305-4647-fc15-e70f08b55c91"
      },
      "source": [
        "train.shape"
      ],
      "execution_count": null,
      "outputs": [
        {
          "output_type": "execute_result",
          "data": {
            "text/plain": [
              "(891, 12)"
            ]
          },
          "metadata": {},
          "execution_count": 9
        }
      ]
    },
    {
      "cell_type": "code",
      "metadata": {
        "id": "QTtIgJx32aph",
        "colab": {
          "base_uri": "https://localhost:8080/"
        },
        "outputId": "4a9ce509-55a1-43b1-c5ff-43d3629e4917"
      },
      "source": [
        "# Count values of 'Survived'\n",
        "train.Survived.value_counts()"
      ],
      "execution_count": null,
      "outputs": [
        {
          "output_type": "execute_result",
          "data": {
            "text/plain": [
              "0    549\n",
              "1    342\n",
              "Name: Survived, dtype: int64"
            ]
          },
          "metadata": {},
          "execution_count": 8
        }
      ]
    },
    {
      "cell_type": "code",
      "metadata": {
        "id": "snOQKMYl2apk",
        "colab": {
          "base_uri": "https://localhost:8080/"
        },
        "outputId": "8a917c5c-fa9b-4db6-b6de-0a53787f7d96"
      },
      "source": [
        "# Calculate the mean fare price\n",
        "train.Fare.mean()"
      ],
      "execution_count": null,
      "outputs": [
        {
          "output_type": "execute_result",
          "data": {
            "text/plain": [
              "32.2042079685746"
            ]
          },
          "metadata": {},
          "execution_count": 10
        }
      ]
    },
    {
      "cell_type": "code",
      "metadata": {
        "id": "IksYWK9X2apq",
        "colab": {
          "base_uri": "https://localhost:8080/",
          "height": 300
        },
        "outputId": "35b21fd7-e6d9-45c5-882e-66d326b35f9a"
      },
      "source": [
        "# General statistics of the dataframe\n",
        "train.describe()"
      ],
      "execution_count": null,
      "outputs": [
        {
          "output_type": "execute_result",
          "data": {
            "text/plain": [
              "       PassengerId    Survived      Pclass         Age       SibSp  \\\n",
              "count   891.000000  891.000000  891.000000  714.000000  891.000000   \n",
              "mean    446.000000    0.383838    2.308642   29.699118    0.523008   \n",
              "std     257.353842    0.486592    0.836071   14.526497    1.102743   \n",
              "min       1.000000    0.000000    1.000000    0.420000    0.000000   \n",
              "25%     223.500000    0.000000    2.000000   20.125000    0.000000   \n",
              "50%     446.000000    0.000000    3.000000   28.000000    0.000000   \n",
              "75%     668.500000    1.000000    3.000000   38.000000    1.000000   \n",
              "max     891.000000    1.000000    3.000000   80.000000    8.000000   \n",
              "\n",
              "            Parch        Fare  \n",
              "count  891.000000  891.000000  \n",
              "mean     0.381594   32.204208  \n",
              "std      0.806057   49.693429  \n",
              "min      0.000000    0.000000  \n",
              "25%      0.000000    7.910400  \n",
              "50%      0.000000   14.454200  \n",
              "75%      0.000000   31.000000  \n",
              "max      6.000000  512.329200  "
            ],
            "text/html": [
              "\n",
              "  <div id=\"df-0a2b354f-fb5c-4b47-b482-3fa20e24e883\">\n",
              "    <div class=\"colab-df-container\">\n",
              "      <div>\n",
              "<style scoped>\n",
              "    .dataframe tbody tr th:only-of-type {\n",
              "        vertical-align: middle;\n",
              "    }\n",
              "\n",
              "    .dataframe tbody tr th {\n",
              "        vertical-align: top;\n",
              "    }\n",
              "\n",
              "    .dataframe thead th {\n",
              "        text-align: right;\n",
              "    }\n",
              "</style>\n",
              "<table border=\"1\" class=\"dataframe\">\n",
              "  <thead>\n",
              "    <tr style=\"text-align: right;\">\n",
              "      <th></th>\n",
              "      <th>PassengerId</th>\n",
              "      <th>Survived</th>\n",
              "      <th>Pclass</th>\n",
              "      <th>Age</th>\n",
              "      <th>SibSp</th>\n",
              "      <th>Parch</th>\n",
              "      <th>Fare</th>\n",
              "    </tr>\n",
              "  </thead>\n",
              "  <tbody>\n",
              "    <tr>\n",
              "      <th>count</th>\n",
              "      <td>891.000000</td>\n",
              "      <td>891.000000</td>\n",
              "      <td>891.000000</td>\n",
              "      <td>714.000000</td>\n",
              "      <td>891.000000</td>\n",
              "      <td>891.000000</td>\n",
              "      <td>891.000000</td>\n",
              "    </tr>\n",
              "    <tr>\n",
              "      <th>mean</th>\n",
              "      <td>446.000000</td>\n",
              "      <td>0.383838</td>\n",
              "      <td>2.308642</td>\n",
              "      <td>29.699118</td>\n",
              "      <td>0.523008</td>\n",
              "      <td>0.381594</td>\n",
              "      <td>32.204208</td>\n",
              "    </tr>\n",
              "    <tr>\n",
              "      <th>std</th>\n",
              "      <td>257.353842</td>\n",
              "      <td>0.486592</td>\n",
              "      <td>0.836071</td>\n",
              "      <td>14.526497</td>\n",
              "      <td>1.102743</td>\n",
              "      <td>0.806057</td>\n",
              "      <td>49.693429</td>\n",
              "    </tr>\n",
              "    <tr>\n",
              "      <th>min</th>\n",
              "      <td>1.000000</td>\n",
              "      <td>0.000000</td>\n",
              "      <td>1.000000</td>\n",
              "      <td>0.420000</td>\n",
              "      <td>0.000000</td>\n",
              "      <td>0.000000</td>\n",
              "      <td>0.000000</td>\n",
              "    </tr>\n",
              "    <tr>\n",
              "      <th>25%</th>\n",
              "      <td>223.500000</td>\n",
              "      <td>0.000000</td>\n",
              "      <td>2.000000</td>\n",
              "      <td>20.125000</td>\n",
              "      <td>0.000000</td>\n",
              "      <td>0.000000</td>\n",
              "      <td>7.910400</td>\n",
              "    </tr>\n",
              "    <tr>\n",
              "      <th>50%</th>\n",
              "      <td>446.000000</td>\n",
              "      <td>0.000000</td>\n",
              "      <td>3.000000</td>\n",
              "      <td>28.000000</td>\n",
              "      <td>0.000000</td>\n",
              "      <td>0.000000</td>\n",
              "      <td>14.454200</td>\n",
              "    </tr>\n",
              "    <tr>\n",
              "      <th>75%</th>\n",
              "      <td>668.500000</td>\n",
              "      <td>1.000000</td>\n",
              "      <td>3.000000</td>\n",
              "      <td>38.000000</td>\n",
              "      <td>1.000000</td>\n",
              "      <td>0.000000</td>\n",
              "      <td>31.000000</td>\n",
              "    </tr>\n",
              "    <tr>\n",
              "      <th>max</th>\n",
              "      <td>891.000000</td>\n",
              "      <td>1.000000</td>\n",
              "      <td>3.000000</td>\n",
              "      <td>80.000000</td>\n",
              "      <td>8.000000</td>\n",
              "      <td>6.000000</td>\n",
              "      <td>512.329200</td>\n",
              "    </tr>\n",
              "  </tbody>\n",
              "</table>\n",
              "</div>\n",
              "      <button class=\"colab-df-convert\" onclick=\"convertToInteractive('df-0a2b354f-fb5c-4b47-b482-3fa20e24e883')\"\n",
              "              title=\"Convert this dataframe to an interactive table.\"\n",
              "              style=\"display:none;\">\n",
              "        \n",
              "  <svg xmlns=\"http://www.w3.org/2000/svg\" height=\"24px\"viewBox=\"0 0 24 24\"\n",
              "       width=\"24px\">\n",
              "    <path d=\"M0 0h24v24H0V0z\" fill=\"none\"/>\n",
              "    <path d=\"M18.56 5.44l.94 2.06.94-2.06 2.06-.94-2.06-.94-.94-2.06-.94 2.06-2.06.94zm-11 1L8.5 8.5l.94-2.06 2.06-.94-2.06-.94L8.5 2.5l-.94 2.06-2.06.94zm10 10l.94 2.06.94-2.06 2.06-.94-2.06-.94-.94-2.06-.94 2.06-2.06.94z\"/><path d=\"M17.41 7.96l-1.37-1.37c-.4-.4-.92-.59-1.43-.59-.52 0-1.04.2-1.43.59L10.3 9.45l-7.72 7.72c-.78.78-.78 2.05 0 2.83L4 21.41c.39.39.9.59 1.41.59.51 0 1.02-.2 1.41-.59l7.78-7.78 2.81-2.81c.8-.78.8-2.07 0-2.86zM5.41 20L4 18.59l7.72-7.72 1.47 1.35L5.41 20z\"/>\n",
              "  </svg>\n",
              "      </button>\n",
              "      \n",
              "  <style>\n",
              "    .colab-df-container {\n",
              "      display:flex;\n",
              "      flex-wrap:wrap;\n",
              "      gap: 12px;\n",
              "    }\n",
              "\n",
              "    .colab-df-convert {\n",
              "      background-color: #E8F0FE;\n",
              "      border: none;\n",
              "      border-radius: 50%;\n",
              "      cursor: pointer;\n",
              "      display: none;\n",
              "      fill: #1967D2;\n",
              "      height: 32px;\n",
              "      padding: 0 0 0 0;\n",
              "      width: 32px;\n",
              "    }\n",
              "\n",
              "    .colab-df-convert:hover {\n",
              "      background-color: #E2EBFA;\n",
              "      box-shadow: 0px 1px 2px rgba(60, 64, 67, 0.3), 0px 1px 3px 1px rgba(60, 64, 67, 0.15);\n",
              "      fill: #174EA6;\n",
              "    }\n",
              "\n",
              "    [theme=dark] .colab-df-convert {\n",
              "      background-color: #3B4455;\n",
              "      fill: #D2E3FC;\n",
              "    }\n",
              "\n",
              "    [theme=dark] .colab-df-convert:hover {\n",
              "      background-color: #434B5C;\n",
              "      box-shadow: 0px 1px 3px 1px rgba(0, 0, 0, 0.15);\n",
              "      filter: drop-shadow(0px 1px 2px rgba(0, 0, 0, 0.3));\n",
              "      fill: #FFFFFF;\n",
              "    }\n",
              "  </style>\n",
              "\n",
              "      <script>\n",
              "        const buttonEl =\n",
              "          document.querySelector('#df-0a2b354f-fb5c-4b47-b482-3fa20e24e883 button.colab-df-convert');\n",
              "        buttonEl.style.display =\n",
              "          google.colab.kernel.accessAllowed ? 'block' : 'none';\n",
              "\n",
              "        async function convertToInteractive(key) {\n",
              "          const element = document.querySelector('#df-0a2b354f-fb5c-4b47-b482-3fa20e24e883');\n",
              "          const dataTable =\n",
              "            await google.colab.kernel.invokeFunction('convertToInteractive',\n",
              "                                                     [key], {});\n",
              "          if (!dataTable) return;\n",
              "\n",
              "          const docLinkHtml = 'Like what you see? Visit the ' +\n",
              "            '<a target=\"_blank\" href=https://colab.research.google.com/notebooks/data_table.ipynb>data table notebook</a>'\n",
              "            + ' to learn more about interactive tables.';\n",
              "          element.innerHTML = '';\n",
              "          dataTable['output_type'] = 'display_data';\n",
              "          await google.colab.output.renderOutput(dataTable, element);\n",
              "          const docLink = document.createElement('div');\n",
              "          docLink.innerHTML = docLinkHtml;\n",
              "          element.appendChild(docLink);\n",
              "        }\n",
              "      </script>\n",
              "    </div>\n",
              "  </div>\n",
              "  "
            ]
          },
          "metadata": {},
          "execution_count": 11
        }
      ]
    },
    {
      "cell_type": "markdown",
      "metadata": {
        "id": "I6-oHvuz2apv"
      },
      "source": [
        "### Selection examples\n",
        "\n",
        "#### Selecting columns"
      ]
    },
    {
      "cell_type": "code",
      "metadata": {
        "id": "3uY4Z3D92apv",
        "colab": {
          "base_uri": "https://localhost:8080/",
          "height": 206
        },
        "outputId": "6d627355-1161-4680-eb16-f9545e465018"
      },
      "source": [
        "# Selection is very similar to standard Python selection\n",
        "df1 = train[[\"Name\", \"Sex\", \"Age\", \"Survived\"]]\n",
        "df1.head()"
      ],
      "execution_count": null,
      "outputs": [
        {
          "output_type": "execute_result",
          "data": {
            "text/plain": [
              "                                                Name     Sex   Age  Survived\n",
              "0                            Braund, Mr. Owen Harris    male  22.0         0\n",
              "1  Cumings, Mrs. John Bradley (Florence Briggs Th...  female  38.0         1\n",
              "2                             Heikkinen, Miss. Laina  female  26.0         1\n",
              "3       Futrelle, Mrs. Jacques Heath (Lily May Peel)  female  35.0         1\n",
              "4                           Allen, Mr. William Henry    male  35.0         0"
            ],
            "text/html": [
              "\n",
              "  <div id=\"df-72757af2-b609-434a-9b2c-a04150c151f5\">\n",
              "    <div class=\"colab-df-container\">\n",
              "      <div>\n",
              "<style scoped>\n",
              "    .dataframe tbody tr th:only-of-type {\n",
              "        vertical-align: middle;\n",
              "    }\n",
              "\n",
              "    .dataframe tbody tr th {\n",
              "        vertical-align: top;\n",
              "    }\n",
              "\n",
              "    .dataframe thead th {\n",
              "        text-align: right;\n",
              "    }\n",
              "</style>\n",
              "<table border=\"1\" class=\"dataframe\">\n",
              "  <thead>\n",
              "    <tr style=\"text-align: right;\">\n",
              "      <th></th>\n",
              "      <th>Name</th>\n",
              "      <th>Sex</th>\n",
              "      <th>Age</th>\n",
              "      <th>Survived</th>\n",
              "    </tr>\n",
              "  </thead>\n",
              "  <tbody>\n",
              "    <tr>\n",
              "      <th>0</th>\n",
              "      <td>Braund, Mr. Owen Harris</td>\n",
              "      <td>male</td>\n",
              "      <td>22.0</td>\n",
              "      <td>0</td>\n",
              "    </tr>\n",
              "    <tr>\n",
              "      <th>1</th>\n",
              "      <td>Cumings, Mrs. John Bradley (Florence Briggs Th...</td>\n",
              "      <td>female</td>\n",
              "      <td>38.0</td>\n",
              "      <td>1</td>\n",
              "    </tr>\n",
              "    <tr>\n",
              "      <th>2</th>\n",
              "      <td>Heikkinen, Miss. Laina</td>\n",
              "      <td>female</td>\n",
              "      <td>26.0</td>\n",
              "      <td>1</td>\n",
              "    </tr>\n",
              "    <tr>\n",
              "      <th>3</th>\n",
              "      <td>Futrelle, Mrs. Jacques Heath (Lily May Peel)</td>\n",
              "      <td>female</td>\n",
              "      <td>35.0</td>\n",
              "      <td>1</td>\n",
              "    </tr>\n",
              "    <tr>\n",
              "      <th>4</th>\n",
              "      <td>Allen, Mr. William Henry</td>\n",
              "      <td>male</td>\n",
              "      <td>35.0</td>\n",
              "      <td>0</td>\n",
              "    </tr>\n",
              "  </tbody>\n",
              "</table>\n",
              "</div>\n",
              "      <button class=\"colab-df-convert\" onclick=\"convertToInteractive('df-72757af2-b609-434a-9b2c-a04150c151f5')\"\n",
              "              title=\"Convert this dataframe to an interactive table.\"\n",
              "              style=\"display:none;\">\n",
              "        \n",
              "  <svg xmlns=\"http://www.w3.org/2000/svg\" height=\"24px\"viewBox=\"0 0 24 24\"\n",
              "       width=\"24px\">\n",
              "    <path d=\"M0 0h24v24H0V0z\" fill=\"none\"/>\n",
              "    <path d=\"M18.56 5.44l.94 2.06.94-2.06 2.06-.94-2.06-.94-.94-2.06-.94 2.06-2.06.94zm-11 1L8.5 8.5l.94-2.06 2.06-.94-2.06-.94L8.5 2.5l-.94 2.06-2.06.94zm10 10l.94 2.06.94-2.06 2.06-.94-2.06-.94-.94-2.06-.94 2.06-2.06.94z\"/><path d=\"M17.41 7.96l-1.37-1.37c-.4-.4-.92-.59-1.43-.59-.52 0-1.04.2-1.43.59L10.3 9.45l-7.72 7.72c-.78.78-.78 2.05 0 2.83L4 21.41c.39.39.9.59 1.41.59.51 0 1.02-.2 1.41-.59l7.78-7.78 2.81-2.81c.8-.78.8-2.07 0-2.86zM5.41 20L4 18.59l7.72-7.72 1.47 1.35L5.41 20z\"/>\n",
              "  </svg>\n",
              "      </button>\n",
              "      \n",
              "  <style>\n",
              "    .colab-df-container {\n",
              "      display:flex;\n",
              "      flex-wrap:wrap;\n",
              "      gap: 12px;\n",
              "    }\n",
              "\n",
              "    .colab-df-convert {\n",
              "      background-color: #E8F0FE;\n",
              "      border: none;\n",
              "      border-radius: 50%;\n",
              "      cursor: pointer;\n",
              "      display: none;\n",
              "      fill: #1967D2;\n",
              "      height: 32px;\n",
              "      padding: 0 0 0 0;\n",
              "      width: 32px;\n",
              "    }\n",
              "\n",
              "    .colab-df-convert:hover {\n",
              "      background-color: #E2EBFA;\n",
              "      box-shadow: 0px 1px 2px rgba(60, 64, 67, 0.3), 0px 1px 3px 1px rgba(60, 64, 67, 0.15);\n",
              "      fill: #174EA6;\n",
              "    }\n",
              "\n",
              "    [theme=dark] .colab-df-convert {\n",
              "      background-color: #3B4455;\n",
              "      fill: #D2E3FC;\n",
              "    }\n",
              "\n",
              "    [theme=dark] .colab-df-convert:hover {\n",
              "      background-color: #434B5C;\n",
              "      box-shadow: 0px 1px 3px 1px rgba(0, 0, 0, 0.15);\n",
              "      filter: drop-shadow(0px 1px 2px rgba(0, 0, 0, 0.3));\n",
              "      fill: #FFFFFF;\n",
              "    }\n",
              "  </style>\n",
              "\n",
              "      <script>\n",
              "        const buttonEl =\n",
              "          document.querySelector('#df-72757af2-b609-434a-9b2c-a04150c151f5 button.colab-df-convert');\n",
              "        buttonEl.style.display =\n",
              "          google.colab.kernel.accessAllowed ? 'block' : 'none';\n",
              "\n",
              "        async function convertToInteractive(key) {\n",
              "          const element = document.querySelector('#df-72757af2-b609-434a-9b2c-a04150c151f5');\n",
              "          const dataTable =\n",
              "            await google.colab.kernel.invokeFunction('convertToInteractive',\n",
              "                                                     [key], {});\n",
              "          if (!dataTable) return;\n",
              "\n",
              "          const docLinkHtml = 'Like what you see? Visit the ' +\n",
              "            '<a target=\"_blank\" href=https://colab.research.google.com/notebooks/data_table.ipynb>data table notebook</a>'\n",
              "            + ' to learn more about interactive tables.';\n",
              "          element.innerHTML = '';\n",
              "          dataTable['output_type'] = 'display_data';\n",
              "          await google.colab.output.renderOutput(dataTable, element);\n",
              "          const docLink = document.createElement('div');\n",
              "          docLink.innerHTML = docLinkHtml;\n",
              "          element.appendChild(docLink);\n",
              "        }\n",
              "      </script>\n",
              "    </div>\n",
              "  </div>\n",
              "  "
            ]
          },
          "metadata": {},
          "execution_count": 12
        }
      ]
    },
    {
      "cell_type": "markdown",
      "metadata": {
        "id": "b4EyHvFXLjFT"
      },
      "source": [
        "#### Selecting rows"
      ]
    },
    {
      "cell_type": "code",
      "metadata": {
        "id": "xGY0BqS72ap0",
        "colab": {
          "base_uri": "https://localhost:8080/",
          "height": 206
        },
        "outputId": "f8623a05-32ff-4011-eee6-fe6f1c77a4d0"
      },
      "source": [
        "df1[10:15]"
      ],
      "execution_count": null,
      "outputs": [
        {
          "output_type": "execute_result",
          "data": {
            "text/plain": [
              "                                    Name     Sex   Age  Survived\n",
              "10       Sandstrom, Miss. Marguerite Rut  female   4.0         1\n",
              "11              Bonnell, Miss. Elizabeth  female  58.0         1\n",
              "12        Saundercock, Mr. William Henry    male  20.0         0\n",
              "13           Andersson, Mr. Anders Johan    male  39.0         0\n",
              "14  Vestrom, Miss. Hulda Amanda Adolfina  female  14.0         0"
            ],
            "text/html": [
              "\n",
              "  <div id=\"df-b006c02c-6439-453f-a587-5548b9aaa2e0\">\n",
              "    <div class=\"colab-df-container\">\n",
              "      <div>\n",
              "<style scoped>\n",
              "    .dataframe tbody tr th:only-of-type {\n",
              "        vertical-align: middle;\n",
              "    }\n",
              "\n",
              "    .dataframe tbody tr th {\n",
              "        vertical-align: top;\n",
              "    }\n",
              "\n",
              "    .dataframe thead th {\n",
              "        text-align: right;\n",
              "    }\n",
              "</style>\n",
              "<table border=\"1\" class=\"dataframe\">\n",
              "  <thead>\n",
              "    <tr style=\"text-align: right;\">\n",
              "      <th></th>\n",
              "      <th>Name</th>\n",
              "      <th>Sex</th>\n",
              "      <th>Age</th>\n",
              "      <th>Survived</th>\n",
              "    </tr>\n",
              "  </thead>\n",
              "  <tbody>\n",
              "    <tr>\n",
              "      <th>10</th>\n",
              "      <td>Sandstrom, Miss. Marguerite Rut</td>\n",
              "      <td>female</td>\n",
              "      <td>4.0</td>\n",
              "      <td>1</td>\n",
              "    </tr>\n",
              "    <tr>\n",
              "      <th>11</th>\n",
              "      <td>Bonnell, Miss. Elizabeth</td>\n",
              "      <td>female</td>\n",
              "      <td>58.0</td>\n",
              "      <td>1</td>\n",
              "    </tr>\n",
              "    <tr>\n",
              "      <th>12</th>\n",
              "      <td>Saundercock, Mr. William Henry</td>\n",
              "      <td>male</td>\n",
              "      <td>20.0</td>\n",
              "      <td>0</td>\n",
              "    </tr>\n",
              "    <tr>\n",
              "      <th>13</th>\n",
              "      <td>Andersson, Mr. Anders Johan</td>\n",
              "      <td>male</td>\n",
              "      <td>39.0</td>\n",
              "      <td>0</td>\n",
              "    </tr>\n",
              "    <tr>\n",
              "      <th>14</th>\n",
              "      <td>Vestrom, Miss. Hulda Amanda Adolfina</td>\n",
              "      <td>female</td>\n",
              "      <td>14.0</td>\n",
              "      <td>0</td>\n",
              "    </tr>\n",
              "  </tbody>\n",
              "</table>\n",
              "</div>\n",
              "      <button class=\"colab-df-convert\" onclick=\"convertToInteractive('df-b006c02c-6439-453f-a587-5548b9aaa2e0')\"\n",
              "              title=\"Convert this dataframe to an interactive table.\"\n",
              "              style=\"display:none;\">\n",
              "        \n",
              "  <svg xmlns=\"http://www.w3.org/2000/svg\" height=\"24px\"viewBox=\"0 0 24 24\"\n",
              "       width=\"24px\">\n",
              "    <path d=\"M0 0h24v24H0V0z\" fill=\"none\"/>\n",
              "    <path d=\"M18.56 5.44l.94 2.06.94-2.06 2.06-.94-2.06-.94-.94-2.06-.94 2.06-2.06.94zm-11 1L8.5 8.5l.94-2.06 2.06-.94-2.06-.94L8.5 2.5l-.94 2.06-2.06.94zm10 10l.94 2.06.94-2.06 2.06-.94-2.06-.94-.94-2.06-.94 2.06-2.06.94z\"/><path d=\"M17.41 7.96l-1.37-1.37c-.4-.4-.92-.59-1.43-.59-.52 0-1.04.2-1.43.59L10.3 9.45l-7.72 7.72c-.78.78-.78 2.05 0 2.83L4 21.41c.39.39.9.59 1.41.59.51 0 1.02-.2 1.41-.59l7.78-7.78 2.81-2.81c.8-.78.8-2.07 0-2.86zM5.41 20L4 18.59l7.72-7.72 1.47 1.35L5.41 20z\"/>\n",
              "  </svg>\n",
              "      </button>\n",
              "      \n",
              "  <style>\n",
              "    .colab-df-container {\n",
              "      display:flex;\n",
              "      flex-wrap:wrap;\n",
              "      gap: 12px;\n",
              "    }\n",
              "\n",
              "    .colab-df-convert {\n",
              "      background-color: #E8F0FE;\n",
              "      border: none;\n",
              "      border-radius: 50%;\n",
              "      cursor: pointer;\n",
              "      display: none;\n",
              "      fill: #1967D2;\n",
              "      height: 32px;\n",
              "      padding: 0 0 0 0;\n",
              "      width: 32px;\n",
              "    }\n",
              "\n",
              "    .colab-df-convert:hover {\n",
              "      background-color: #E2EBFA;\n",
              "      box-shadow: 0px 1px 2px rgba(60, 64, 67, 0.3), 0px 1px 3px 1px rgba(60, 64, 67, 0.15);\n",
              "      fill: #174EA6;\n",
              "    }\n",
              "\n",
              "    [theme=dark] .colab-df-convert {\n",
              "      background-color: #3B4455;\n",
              "      fill: #D2E3FC;\n",
              "    }\n",
              "\n",
              "    [theme=dark] .colab-df-convert:hover {\n",
              "      background-color: #434B5C;\n",
              "      box-shadow: 0px 1px 3px 1px rgba(0, 0, 0, 0.15);\n",
              "      filter: drop-shadow(0px 1px 2px rgba(0, 0, 0, 0.3));\n",
              "      fill: #FFFFFF;\n",
              "    }\n",
              "  </style>\n",
              "\n",
              "      <script>\n",
              "        const buttonEl =\n",
              "          document.querySelector('#df-b006c02c-6439-453f-a587-5548b9aaa2e0 button.colab-df-convert');\n",
              "        buttonEl.style.display =\n",
              "          google.colab.kernel.accessAllowed ? 'block' : 'none';\n",
              "\n",
              "        async function convertToInteractive(key) {\n",
              "          const element = document.querySelector('#df-b006c02c-6439-453f-a587-5548b9aaa2e0');\n",
              "          const dataTable =\n",
              "            await google.colab.kernel.invokeFunction('convertToInteractive',\n",
              "                                                     [key], {});\n",
              "          if (!dataTable) return;\n",
              "\n",
              "          const docLinkHtml = 'Like what you see? Visit the ' +\n",
              "            '<a target=\"_blank\" href=https://colab.research.google.com/notebooks/data_table.ipynb>data table notebook</a>'\n",
              "            + ' to learn more about interactive tables.';\n",
              "          element.innerHTML = '';\n",
              "          dataTable['output_type'] = 'display_data';\n",
              "          await google.colab.output.renderOutput(dataTable, element);\n",
              "          const docLink = document.createElement('div');\n",
              "          docLink.innerHTML = docLinkHtml;\n",
              "          element.appendChild(docLink);\n",
              "        }\n",
              "      </script>\n",
              "    </div>\n",
              "  </div>\n",
              "  "
            ]
          },
          "metadata": {},
          "execution_count": 13
        }
      ]
    },
    {
      "cell_type": "markdown",
      "metadata": {
        "id": "hDGOpl252ap7"
      },
      "source": [
        "### Filtering Examples"
      ]
    },
    {
      "cell_type": "markdown",
      "metadata": {
        "id": "kJMt5yUxWY79"
      },
      "source": [
        "#### Filtering with one condition"
      ]
    },
    {
      "cell_type": "code",
      "metadata": {
        "id": "ozFXXNB_2ap9",
        "colab": {
          "base_uri": "https://localhost:8080/"
        },
        "outputId": "e9002a72-5e22-4b13-8500-e3f5fd8f89d7"
      },
      "source": [
        "# Filtering allows you to create masks given some conditions\n",
        "df1.Sex == 'female' "
      ],
      "execution_count": null,
      "outputs": [
        {
          "output_type": "execute_result",
          "data": {
            "text/plain": [
              "0      False\n",
              "1       True\n",
              "2       True\n",
              "3       True\n",
              "4      False\n",
              "       ...  \n",
              "886    False\n",
              "887     True\n",
              "888     True\n",
              "889    False\n",
              "890    False\n",
              "Name: Sex, Length: 891, dtype: bool"
            ]
          },
          "metadata": {},
          "execution_count": 14
        }
      ]
    },
    {
      "cell_type": "code",
      "metadata": {
        "id": "xfny3baQVPOt",
        "colab": {
          "base_uri": "https://localhost:8080/",
          "height": 206
        },
        "outputId": "26fb9f4b-6635-497b-840d-d528c7ae0277"
      },
      "source": [
        "onlyFemale = df1[df1.Sex == 'female']\n",
        "onlyFemale.head()"
      ],
      "execution_count": null,
      "outputs": [
        {
          "output_type": "execute_result",
          "data": {
            "text/plain": [
              "                                                Name     Sex   Age  Survived\n",
              "1  Cumings, Mrs. John Bradley (Florence Briggs Th...  female  38.0         1\n",
              "2                             Heikkinen, Miss. Laina  female  26.0         1\n",
              "3       Futrelle, Mrs. Jacques Heath (Lily May Peel)  female  35.0         1\n",
              "8  Johnson, Mrs. Oscar W (Elisabeth Vilhelmina Berg)  female  27.0         1\n",
              "9                Nasser, Mrs. Nicholas (Adele Achem)  female  14.0         1"
            ],
            "text/html": [
              "\n",
              "  <div id=\"df-d5ed3bdd-04e2-49f7-b756-d36eef72a04c\">\n",
              "    <div class=\"colab-df-container\">\n",
              "      <div>\n",
              "<style scoped>\n",
              "    .dataframe tbody tr th:only-of-type {\n",
              "        vertical-align: middle;\n",
              "    }\n",
              "\n",
              "    .dataframe tbody tr th {\n",
              "        vertical-align: top;\n",
              "    }\n",
              "\n",
              "    .dataframe thead th {\n",
              "        text-align: right;\n",
              "    }\n",
              "</style>\n",
              "<table border=\"1\" class=\"dataframe\">\n",
              "  <thead>\n",
              "    <tr style=\"text-align: right;\">\n",
              "      <th></th>\n",
              "      <th>Name</th>\n",
              "      <th>Sex</th>\n",
              "      <th>Age</th>\n",
              "      <th>Survived</th>\n",
              "    </tr>\n",
              "  </thead>\n",
              "  <tbody>\n",
              "    <tr>\n",
              "      <th>1</th>\n",
              "      <td>Cumings, Mrs. John Bradley (Florence Briggs Th...</td>\n",
              "      <td>female</td>\n",
              "      <td>38.0</td>\n",
              "      <td>1</td>\n",
              "    </tr>\n",
              "    <tr>\n",
              "      <th>2</th>\n",
              "      <td>Heikkinen, Miss. Laina</td>\n",
              "      <td>female</td>\n",
              "      <td>26.0</td>\n",
              "      <td>1</td>\n",
              "    </tr>\n",
              "    <tr>\n",
              "      <th>3</th>\n",
              "      <td>Futrelle, Mrs. Jacques Heath (Lily May Peel)</td>\n",
              "      <td>female</td>\n",
              "      <td>35.0</td>\n",
              "      <td>1</td>\n",
              "    </tr>\n",
              "    <tr>\n",
              "      <th>8</th>\n",
              "      <td>Johnson, Mrs. Oscar W (Elisabeth Vilhelmina Berg)</td>\n",
              "      <td>female</td>\n",
              "      <td>27.0</td>\n",
              "      <td>1</td>\n",
              "    </tr>\n",
              "    <tr>\n",
              "      <th>9</th>\n",
              "      <td>Nasser, Mrs. Nicholas (Adele Achem)</td>\n",
              "      <td>female</td>\n",
              "      <td>14.0</td>\n",
              "      <td>1</td>\n",
              "    </tr>\n",
              "  </tbody>\n",
              "</table>\n",
              "</div>\n",
              "      <button class=\"colab-df-convert\" onclick=\"convertToInteractive('df-d5ed3bdd-04e2-49f7-b756-d36eef72a04c')\"\n",
              "              title=\"Convert this dataframe to an interactive table.\"\n",
              "              style=\"display:none;\">\n",
              "        \n",
              "  <svg xmlns=\"http://www.w3.org/2000/svg\" height=\"24px\"viewBox=\"0 0 24 24\"\n",
              "       width=\"24px\">\n",
              "    <path d=\"M0 0h24v24H0V0z\" fill=\"none\"/>\n",
              "    <path d=\"M18.56 5.44l.94 2.06.94-2.06 2.06-.94-2.06-.94-.94-2.06-.94 2.06-2.06.94zm-11 1L8.5 8.5l.94-2.06 2.06-.94-2.06-.94L8.5 2.5l-.94 2.06-2.06.94zm10 10l.94 2.06.94-2.06 2.06-.94-2.06-.94-.94-2.06-.94 2.06-2.06.94z\"/><path d=\"M17.41 7.96l-1.37-1.37c-.4-.4-.92-.59-1.43-.59-.52 0-1.04.2-1.43.59L10.3 9.45l-7.72 7.72c-.78.78-.78 2.05 0 2.83L4 21.41c.39.39.9.59 1.41.59.51 0 1.02-.2 1.41-.59l7.78-7.78 2.81-2.81c.8-.78.8-2.07 0-2.86zM5.41 20L4 18.59l7.72-7.72 1.47 1.35L5.41 20z\"/>\n",
              "  </svg>\n",
              "      </button>\n",
              "      \n",
              "  <style>\n",
              "    .colab-df-container {\n",
              "      display:flex;\n",
              "      flex-wrap:wrap;\n",
              "      gap: 12px;\n",
              "    }\n",
              "\n",
              "    .colab-df-convert {\n",
              "      background-color: #E8F0FE;\n",
              "      border: none;\n",
              "      border-radius: 50%;\n",
              "      cursor: pointer;\n",
              "      display: none;\n",
              "      fill: #1967D2;\n",
              "      height: 32px;\n",
              "      padding: 0 0 0 0;\n",
              "      width: 32px;\n",
              "    }\n",
              "\n",
              "    .colab-df-convert:hover {\n",
              "      background-color: #E2EBFA;\n",
              "      box-shadow: 0px 1px 2px rgba(60, 64, 67, 0.3), 0px 1px 3px 1px rgba(60, 64, 67, 0.15);\n",
              "      fill: #174EA6;\n",
              "    }\n",
              "\n",
              "    [theme=dark] .colab-df-convert {\n",
              "      background-color: #3B4455;\n",
              "      fill: #D2E3FC;\n",
              "    }\n",
              "\n",
              "    [theme=dark] .colab-df-convert:hover {\n",
              "      background-color: #434B5C;\n",
              "      box-shadow: 0px 1px 3px 1px rgba(0, 0, 0, 0.15);\n",
              "      filter: drop-shadow(0px 1px 2px rgba(0, 0, 0, 0.3));\n",
              "      fill: #FFFFFF;\n",
              "    }\n",
              "  </style>\n",
              "\n",
              "      <script>\n",
              "        const buttonEl =\n",
              "          document.querySelector('#df-d5ed3bdd-04e2-49f7-b756-d36eef72a04c button.colab-df-convert');\n",
              "        buttonEl.style.display =\n",
              "          google.colab.kernel.accessAllowed ? 'block' : 'none';\n",
              "\n",
              "        async function convertToInteractive(key) {\n",
              "          const element = document.querySelector('#df-d5ed3bdd-04e2-49f7-b756-d36eef72a04c');\n",
              "          const dataTable =\n",
              "            await google.colab.kernel.invokeFunction('convertToInteractive',\n",
              "                                                     [key], {});\n",
              "          if (!dataTable) return;\n",
              "\n",
              "          const docLinkHtml = 'Like what you see? Visit the ' +\n",
              "            '<a target=\"_blank\" href=https://colab.research.google.com/notebooks/data_table.ipynb>data table notebook</a>'\n",
              "            + ' to learn more about interactive tables.';\n",
              "          element.innerHTML = '';\n",
              "          dataTable['output_type'] = 'display_data';\n",
              "          await google.colab.output.renderOutput(dataTable, element);\n",
              "          const docLink = document.createElement('div');\n",
              "          docLink.innerHTML = docLinkHtml;\n",
              "          element.appendChild(docLink);\n",
              "        }\n",
              "      </script>\n",
              "    </div>\n",
              "  </div>\n",
              "  "
            ]
          },
          "metadata": {},
          "execution_count": 15
        }
      ]
    },
    {
      "cell_type": "markdown",
      "metadata": {
        "id": "Y0KwaVncWdjI"
      },
      "source": [
        "#### Filtering with multiple conditions\n",
        "**(T2)** Alter the following command so `adultFemales` will contain only females whose age is 18 and above. \n",
        "You need to filter using a **single** mask with multiple conditions (google it!), i.e., without creating any temporary dataframes.\n",
        "\n",
        "Additionally, update the `survivalRate` variable to show the correct rate."
      ]
    },
    {
      "cell_type": "code",
      "metadata": {
        "id": "3hutR85R2aqC",
        "colab": {
          "base_uri": "https://localhost:8080/"
        },
        "outputId": "331b0314-21d1-4db6-e4eb-191b8cfcfd55"
      },
      "source": [
        "# TODO: update the mask\n",
        "# adultFemales = df1[(df1.Sex == 'female')]\n",
        "adultFemales=df1.loc[np.where((df1['Age']>=18)&(df1['Sex']=='female'))]\n",
        "# idx=idx=np.where((train['Age']>=18)&(train['Sex']=='female'))\n",
        "# train.loc[idx]\n",
        "\n",
        "# TODO: Update the survival rate\n",
        "survivalRate = adultFemales.Survived.sum()/adultFemales.shape[0]\n",
        "print(\"The survival rate of adult females was: {:.2f}%\".format(survivalRate * 100))"
      ],
      "execution_count": null,
      "outputs": [
        {
          "output_type": "stream",
          "name": "stdout",
          "text": [
            "The survival rate of adult females was: 77.18%\n"
          ]
        }
      ]
    },
    {
      "cell_type": "markdown",
      "metadata": {
        "id": "udZZT8Fo2aqN"
      },
      "source": [
        "## Aggregating\n",
        "Pandas allows you to aggregate and display different views of your data."
      ]
    },
    {
      "cell_type": "code",
      "metadata": {
        "id": "_osF_D4n2aqO",
        "colab": {
          "base_uri": "https://localhost:8080/"
        },
        "outputId": "01e091ee-271f-4186-80d5-0b94e6783691"
      },
      "source": [
        "df2 = train.groupby(['Pclass', 'Sex']).Fare.agg(np.mean)\n",
        "df2"
      ],
      "execution_count": null,
      "outputs": [
        {
          "output_type": "execute_result",
          "data": {
            "text/plain": [
              "Pclass  Sex   \n",
              "1       female    106.125798\n",
              "        male       67.226127\n",
              "2       female     21.970121\n",
              "        male       19.741782\n",
              "3       female     16.118810\n",
              "        male       12.661633\n",
              "Name: Fare, dtype: float64"
            ]
          },
          "metadata": {},
          "execution_count": 17
        }
      ]
    },
    {
      "cell_type": "code",
      "metadata": {
        "id": "KiS5Cjm-2aqR",
        "colab": {
          "base_uri": "https://localhost:8080/",
          "height": 175
        },
        "outputId": "a4cb03c1-5452-418f-e1d7-98b7764ae4ba"
      },
      "source": [
        "pd.pivot_table(train, index=['Pclass'], values=['Survived'], aggfunc='count')"
      ],
      "execution_count": null,
      "outputs": [
        {
          "output_type": "execute_result",
          "data": {
            "text/plain": [
              "        Survived\n",
              "Pclass          \n",
              "1            216\n",
              "2            184\n",
              "3            491"
            ],
            "text/html": [
              "\n",
              "  <div id=\"df-11dc60d4-4e40-4f4b-8223-c145c7e5dfa3\">\n",
              "    <div class=\"colab-df-container\">\n",
              "      <div>\n",
              "<style scoped>\n",
              "    .dataframe tbody tr th:only-of-type {\n",
              "        vertical-align: middle;\n",
              "    }\n",
              "\n",
              "    .dataframe tbody tr th {\n",
              "        vertical-align: top;\n",
              "    }\n",
              "\n",
              "    .dataframe thead th {\n",
              "        text-align: right;\n",
              "    }\n",
              "</style>\n",
              "<table border=\"1\" class=\"dataframe\">\n",
              "  <thead>\n",
              "    <tr style=\"text-align: right;\">\n",
              "      <th></th>\n",
              "      <th>Survived</th>\n",
              "    </tr>\n",
              "    <tr>\n",
              "      <th>Pclass</th>\n",
              "      <th></th>\n",
              "    </tr>\n",
              "  </thead>\n",
              "  <tbody>\n",
              "    <tr>\n",
              "      <th>1</th>\n",
              "      <td>216</td>\n",
              "    </tr>\n",
              "    <tr>\n",
              "      <th>2</th>\n",
              "      <td>184</td>\n",
              "    </tr>\n",
              "    <tr>\n",
              "      <th>3</th>\n",
              "      <td>491</td>\n",
              "    </tr>\n",
              "  </tbody>\n",
              "</table>\n",
              "</div>\n",
              "      <button class=\"colab-df-convert\" onclick=\"convertToInteractive('df-11dc60d4-4e40-4f4b-8223-c145c7e5dfa3')\"\n",
              "              title=\"Convert this dataframe to an interactive table.\"\n",
              "              style=\"display:none;\">\n",
              "        \n",
              "  <svg xmlns=\"http://www.w3.org/2000/svg\" height=\"24px\"viewBox=\"0 0 24 24\"\n",
              "       width=\"24px\">\n",
              "    <path d=\"M0 0h24v24H0V0z\" fill=\"none\"/>\n",
              "    <path d=\"M18.56 5.44l.94 2.06.94-2.06 2.06-.94-2.06-.94-.94-2.06-.94 2.06-2.06.94zm-11 1L8.5 8.5l.94-2.06 2.06-.94-2.06-.94L8.5 2.5l-.94 2.06-2.06.94zm10 10l.94 2.06.94-2.06 2.06-.94-2.06-.94-.94-2.06-.94 2.06-2.06.94z\"/><path d=\"M17.41 7.96l-1.37-1.37c-.4-.4-.92-.59-1.43-.59-.52 0-1.04.2-1.43.59L10.3 9.45l-7.72 7.72c-.78.78-.78 2.05 0 2.83L4 21.41c.39.39.9.59 1.41.59.51 0 1.02-.2 1.41-.59l7.78-7.78 2.81-2.81c.8-.78.8-2.07 0-2.86zM5.41 20L4 18.59l7.72-7.72 1.47 1.35L5.41 20z\"/>\n",
              "  </svg>\n",
              "      </button>\n",
              "      \n",
              "  <style>\n",
              "    .colab-df-container {\n",
              "      display:flex;\n",
              "      flex-wrap:wrap;\n",
              "      gap: 12px;\n",
              "    }\n",
              "\n",
              "    .colab-df-convert {\n",
              "      background-color: #E8F0FE;\n",
              "      border: none;\n",
              "      border-radius: 50%;\n",
              "      cursor: pointer;\n",
              "      display: none;\n",
              "      fill: #1967D2;\n",
              "      height: 32px;\n",
              "      padding: 0 0 0 0;\n",
              "      width: 32px;\n",
              "    }\n",
              "\n",
              "    .colab-df-convert:hover {\n",
              "      background-color: #E2EBFA;\n",
              "      box-shadow: 0px 1px 2px rgba(60, 64, 67, 0.3), 0px 1px 3px 1px rgba(60, 64, 67, 0.15);\n",
              "      fill: #174EA6;\n",
              "    }\n",
              "\n",
              "    [theme=dark] .colab-df-convert {\n",
              "      background-color: #3B4455;\n",
              "      fill: #D2E3FC;\n",
              "    }\n",
              "\n",
              "    [theme=dark] .colab-df-convert:hover {\n",
              "      background-color: #434B5C;\n",
              "      box-shadow: 0px 1px 3px 1px rgba(0, 0, 0, 0.15);\n",
              "      filter: drop-shadow(0px 1px 2px rgba(0, 0, 0, 0.3));\n",
              "      fill: #FFFFFF;\n",
              "    }\n",
              "  </style>\n",
              "\n",
              "      <script>\n",
              "        const buttonEl =\n",
              "          document.querySelector('#df-11dc60d4-4e40-4f4b-8223-c145c7e5dfa3 button.colab-df-convert');\n",
              "        buttonEl.style.display =\n",
              "          google.colab.kernel.accessAllowed ? 'block' : 'none';\n",
              "\n",
              "        async function convertToInteractive(key) {\n",
              "          const element = document.querySelector('#df-11dc60d4-4e40-4f4b-8223-c145c7e5dfa3');\n",
              "          const dataTable =\n",
              "            await google.colab.kernel.invokeFunction('convertToInteractive',\n",
              "                                                     [key], {});\n",
              "          if (!dataTable) return;\n",
              "\n",
              "          const docLinkHtml = 'Like what you see? Visit the ' +\n",
              "            '<a target=\"_blank\" href=https://colab.research.google.com/notebooks/data_table.ipynb>data table notebook</a>'\n",
              "            + ' to learn more about interactive tables.';\n",
              "          element.innerHTML = '';\n",
              "          dataTable['output_type'] = 'display_data';\n",
              "          await google.colab.output.renderOutput(dataTable, element);\n",
              "          const docLink = document.createElement('div');\n",
              "          docLink.innerHTML = docLinkHtml;\n",
              "          element.appendChild(docLink);\n",
              "        }\n",
              "      </script>\n",
              "    </div>\n",
              "  </div>\n",
              "  "
            ]
          },
          "metadata": {},
          "execution_count": 18
        }
      ]
    },
    {
      "cell_type": "markdown",
      "metadata": {
        "id": "6WNTC_WwHYQ0"
      },
      "source": [
        "The following table shows the survival rates for each combination of passenger class and sex. \n",
        "**(T3)** Add a column showing the mean **age** for such a combination."
      ]
    },
    {
      "cell_type": "code",
      "metadata": {
        "id": "GlukQGgs2aqU",
        "colab": {
          "base_uri": "https://localhost:8080/",
          "height": 269
        },
        "outputId": "de032b85-c47c-45f7-fadf-2467a05af514"
      },
      "source": [
        "# TODO: Also show the mean age per group\n",
        "pd.pivot_table(train, index=['Pclass', 'Sex'], values=['Age','Survived'], aggfunc='mean')"
      ],
      "execution_count": null,
      "outputs": [
        {
          "output_type": "execute_result",
          "data": {
            "text/plain": [
              "                     Age  Survived\n",
              "Pclass Sex                        \n",
              "1      female  34.611765  0.968085\n",
              "       male    41.281386  0.368852\n",
              "2      female  28.722973  0.921053\n",
              "       male    30.740707  0.157407\n",
              "3      female  21.750000  0.500000\n",
              "       male    26.507589  0.135447"
            ],
            "text/html": [
              "\n",
              "  <div id=\"df-ebcd4f63-9a27-4096-937e-7f4bae81241e\">\n",
              "    <div class=\"colab-df-container\">\n",
              "      <div>\n",
              "<style scoped>\n",
              "    .dataframe tbody tr th:only-of-type {\n",
              "        vertical-align: middle;\n",
              "    }\n",
              "\n",
              "    .dataframe tbody tr th {\n",
              "        vertical-align: top;\n",
              "    }\n",
              "\n",
              "    .dataframe thead th {\n",
              "        text-align: right;\n",
              "    }\n",
              "</style>\n",
              "<table border=\"1\" class=\"dataframe\">\n",
              "  <thead>\n",
              "    <tr style=\"text-align: right;\">\n",
              "      <th></th>\n",
              "      <th></th>\n",
              "      <th>Age</th>\n",
              "      <th>Survived</th>\n",
              "    </tr>\n",
              "    <tr>\n",
              "      <th>Pclass</th>\n",
              "      <th>Sex</th>\n",
              "      <th></th>\n",
              "      <th></th>\n",
              "    </tr>\n",
              "  </thead>\n",
              "  <tbody>\n",
              "    <tr>\n",
              "      <th rowspan=\"2\" valign=\"top\">1</th>\n",
              "      <th>female</th>\n",
              "      <td>34.611765</td>\n",
              "      <td>0.968085</td>\n",
              "    </tr>\n",
              "    <tr>\n",
              "      <th>male</th>\n",
              "      <td>41.281386</td>\n",
              "      <td>0.368852</td>\n",
              "    </tr>\n",
              "    <tr>\n",
              "      <th rowspan=\"2\" valign=\"top\">2</th>\n",
              "      <th>female</th>\n",
              "      <td>28.722973</td>\n",
              "      <td>0.921053</td>\n",
              "    </tr>\n",
              "    <tr>\n",
              "      <th>male</th>\n",
              "      <td>30.740707</td>\n",
              "      <td>0.157407</td>\n",
              "    </tr>\n",
              "    <tr>\n",
              "      <th rowspan=\"2\" valign=\"top\">3</th>\n",
              "      <th>female</th>\n",
              "      <td>21.750000</td>\n",
              "      <td>0.500000</td>\n",
              "    </tr>\n",
              "    <tr>\n",
              "      <th>male</th>\n",
              "      <td>26.507589</td>\n",
              "      <td>0.135447</td>\n",
              "    </tr>\n",
              "  </tbody>\n",
              "</table>\n",
              "</div>\n",
              "      <button class=\"colab-df-convert\" onclick=\"convertToInteractive('df-ebcd4f63-9a27-4096-937e-7f4bae81241e')\"\n",
              "              title=\"Convert this dataframe to an interactive table.\"\n",
              "              style=\"display:none;\">\n",
              "        \n",
              "  <svg xmlns=\"http://www.w3.org/2000/svg\" height=\"24px\"viewBox=\"0 0 24 24\"\n",
              "       width=\"24px\">\n",
              "    <path d=\"M0 0h24v24H0V0z\" fill=\"none\"/>\n",
              "    <path d=\"M18.56 5.44l.94 2.06.94-2.06 2.06-.94-2.06-.94-.94-2.06-.94 2.06-2.06.94zm-11 1L8.5 8.5l.94-2.06 2.06-.94-2.06-.94L8.5 2.5l-.94 2.06-2.06.94zm10 10l.94 2.06.94-2.06 2.06-.94-2.06-.94-.94-2.06-.94 2.06-2.06.94z\"/><path d=\"M17.41 7.96l-1.37-1.37c-.4-.4-.92-.59-1.43-.59-.52 0-1.04.2-1.43.59L10.3 9.45l-7.72 7.72c-.78.78-.78 2.05 0 2.83L4 21.41c.39.39.9.59 1.41.59.51 0 1.02-.2 1.41-.59l7.78-7.78 2.81-2.81c.8-.78.8-2.07 0-2.86zM5.41 20L4 18.59l7.72-7.72 1.47 1.35L5.41 20z\"/>\n",
              "  </svg>\n",
              "      </button>\n",
              "      \n",
              "  <style>\n",
              "    .colab-df-container {\n",
              "      display:flex;\n",
              "      flex-wrap:wrap;\n",
              "      gap: 12px;\n",
              "    }\n",
              "\n",
              "    .colab-df-convert {\n",
              "      background-color: #E8F0FE;\n",
              "      border: none;\n",
              "      border-radius: 50%;\n",
              "      cursor: pointer;\n",
              "      display: none;\n",
              "      fill: #1967D2;\n",
              "      height: 32px;\n",
              "      padding: 0 0 0 0;\n",
              "      width: 32px;\n",
              "    }\n",
              "\n",
              "    .colab-df-convert:hover {\n",
              "      background-color: #E2EBFA;\n",
              "      box-shadow: 0px 1px 2px rgba(60, 64, 67, 0.3), 0px 1px 3px 1px rgba(60, 64, 67, 0.15);\n",
              "      fill: #174EA6;\n",
              "    }\n",
              "\n",
              "    [theme=dark] .colab-df-convert {\n",
              "      background-color: #3B4455;\n",
              "      fill: #D2E3FC;\n",
              "    }\n",
              "\n",
              "    [theme=dark] .colab-df-convert:hover {\n",
              "      background-color: #434B5C;\n",
              "      box-shadow: 0px 1px 3px 1px rgba(0, 0, 0, 0.15);\n",
              "      filter: drop-shadow(0px 1px 2px rgba(0, 0, 0, 0.3));\n",
              "      fill: #FFFFFF;\n",
              "    }\n",
              "  </style>\n",
              "\n",
              "      <script>\n",
              "        const buttonEl =\n",
              "          document.querySelector('#df-ebcd4f63-9a27-4096-937e-7f4bae81241e button.colab-df-convert');\n",
              "        buttonEl.style.display =\n",
              "          google.colab.kernel.accessAllowed ? 'block' : 'none';\n",
              "\n",
              "        async function convertToInteractive(key) {\n",
              "          const element = document.querySelector('#df-ebcd4f63-9a27-4096-937e-7f4bae81241e');\n",
              "          const dataTable =\n",
              "            await google.colab.kernel.invokeFunction('convertToInteractive',\n",
              "                                                     [key], {});\n",
              "          if (!dataTable) return;\n",
              "\n",
              "          const docLinkHtml = 'Like what you see? Visit the ' +\n",
              "            '<a target=\"_blank\" href=https://colab.research.google.com/notebooks/data_table.ipynb>data table notebook</a>'\n",
              "            + ' to learn more about interactive tables.';\n",
              "          element.innerHTML = '';\n",
              "          dataTable['output_type'] = 'display_data';\n",
              "          await google.colab.output.renderOutput(dataTable, element);\n",
              "          const docLink = document.createElement('div');\n",
              "          docLink.innerHTML = docLinkHtml;\n",
              "          element.appendChild(docLink);\n",
              "        }\n",
              "      </script>\n",
              "    </div>\n",
              "  </div>\n",
              "  "
            ]
          },
          "metadata": {},
          "execution_count": 19
        }
      ]
    },
    {
      "cell_type": "markdown",
      "metadata": {
        "id": "GQa2WGIPQ5JC"
      },
      "source": [
        "**(T4)** Use [this](https://stackoverflow.com/questions/21441259/pandas-groupby-range-of-values) question on stackoverflow, to find the mean survival rate for ages 0-10, 10-20, etc.)."
      ]
    },
    {
      "cell_type": "code",
      "metadata": {
        "id": "yVq3VqPH2arc",
        "colab": {
          "base_uri": "https://localhost:8080/"
        },
        "outputId": "ead4b294-fe1b-4045-99df-2381a4305628"
      },
      "source": [
        "# TODO: find the mean survival rate per age group\n",
        "ageGroups = np.arange(0, 81, 10)\n",
        "# survivalPerAgeGroup=pd.pivot_table(train, index=pd.cut(df1[\"Age\"],ageGroups), values=['Survived'], aggfunc='mean')\n",
        "survivalPerAgeGroup=df1.groupby(pd.cut(df1['Age'],ageGroups)).mean()\n",
        "survivalPerAgeGroup[\"Survived\"]\n",
        "# survivalPerAgeGroup = None"
      ],
      "execution_count": null,
      "outputs": [
        {
          "output_type": "execute_result",
          "data": {
            "text/plain": [
              "Age\n",
              "(0, 10]     0.593750\n",
              "(10, 20]    0.382609\n",
              "(20, 30]    0.365217\n",
              "(30, 40]    0.445161\n",
              "(40, 50]    0.383721\n",
              "(50, 60]    0.404762\n",
              "(60, 70]    0.235294\n",
              "(70, 80]    0.200000\n",
              "Name: Survived, dtype: float64"
            ]
          },
          "metadata": {},
          "execution_count": 20
        }
      ]
    },
    {
      "cell_type": "code",
      "source": [
        "# type(survivalPerAgeGroup)\n",
        "# survivalPerAgeGroup.columns\n",
        "# df.groupby(pd.cut(df[\"B\"], np.arange(0, 1.0+0.155, 0.155))).sum()\n",
        "z=df1.groupby(pd.cut(df1['Age'],ageGroups)).mean()\n",
        "# z=z[\"Survived\"]\n",
        "# survivalPerAgeGroup=\n",
        "print(type(z))\n",
        "print(z.columns)\n",
        "print(z[\"Survived\"])\n",
        "\n"
      ],
      "metadata": {
        "colab": {
          "base_uri": "https://localhost:8080/"
        },
        "id": "e46Zwx0Jd-UT",
        "outputId": "b10b13ee-e4bb-4e60-84cd-643b07de820c"
      },
      "execution_count": null,
      "outputs": [
        {
          "output_type": "stream",
          "name": "stdout",
          "text": [
            "<class 'pandas.core.frame.DataFrame'>\n",
            "Index(['Age', 'Survived'], dtype='object')\n",
            "Age\n",
            "(0, 10]     0.593750\n",
            "(10, 20]    0.382609\n",
            "(20, 30]    0.365217\n",
            "(30, 40]    0.445161\n",
            "(40, 50]    0.383721\n",
            "(50, 60]    0.404762\n",
            "(60, 70]    0.235294\n",
            "(70, 80]    0.200000\n",
            "Name: Survived, dtype: float64\n"
          ]
        }
      ]
    },
    {
      "cell_type": "markdown",
      "metadata": {
        "id": "2RGfdp3kI6FW"
      },
      "source": [
        "## Filling missing data (data imputation)\n",
        "\n",
        "Note that some passenger do not have age data."
      ]
    },
    {
      "cell_type": "code",
      "metadata": {
        "id": "_xMMyKw0J5WD",
        "colab": {
          "base_uri": "https://localhost:8080/"
        },
        "outputId": "ac814d1a-ddd6-4f62-bd0c-08eceb65ef98"
      },
      "source": [
        "print(\"{} out of {} passengers do not have a recorded age\".format(df1[df1.Age.isna()].shape[0], df1.shape[0]))"
      ],
      "execution_count": null,
      "outputs": [
        {
          "output_type": "stream",
          "name": "stdout",
          "text": [
            "177 out of 891 passengers do not have a recorded age\n"
          ]
        }
      ]
    },
    {
      "cell_type": "code",
      "metadata": {
        "id": "0kHH8y-KI5Mj",
        "colab": {
          "base_uri": "https://localhost:8080/",
          "height": 206
        },
        "outputId": "225d5805-07f0-4a3b-c4f5-f75451ec47eb"
      },
      "source": [
        "df1[df1.Age.isna()].head()"
      ],
      "execution_count": null,
      "outputs": [
        {
          "output_type": "execute_result",
          "data": {
            "text/plain": [
              "                             Name     Sex  Age  Survived\n",
              "5                Moran, Mr. James    male  NaN         0\n",
              "17   Williams, Mr. Charles Eugene    male  NaN         1\n",
              "19        Masselmani, Mrs. Fatima  female  NaN         1\n",
              "26        Emir, Mr. Farred Chehab    male  NaN         0\n",
              "28  O'Dwyer, Miss. Ellen \"Nellie\"  female  NaN         1"
            ],
            "text/html": [
              "\n",
              "  <div id=\"df-93623a38-b20b-4292-b336-d96d635b8927\">\n",
              "    <div class=\"colab-df-container\">\n",
              "      <div>\n",
              "<style scoped>\n",
              "    .dataframe tbody tr th:only-of-type {\n",
              "        vertical-align: middle;\n",
              "    }\n",
              "\n",
              "    .dataframe tbody tr th {\n",
              "        vertical-align: top;\n",
              "    }\n",
              "\n",
              "    .dataframe thead th {\n",
              "        text-align: right;\n",
              "    }\n",
              "</style>\n",
              "<table border=\"1\" class=\"dataframe\">\n",
              "  <thead>\n",
              "    <tr style=\"text-align: right;\">\n",
              "      <th></th>\n",
              "      <th>Name</th>\n",
              "      <th>Sex</th>\n",
              "      <th>Age</th>\n",
              "      <th>Survived</th>\n",
              "    </tr>\n",
              "  </thead>\n",
              "  <tbody>\n",
              "    <tr>\n",
              "      <th>5</th>\n",
              "      <td>Moran, Mr. James</td>\n",
              "      <td>male</td>\n",
              "      <td>NaN</td>\n",
              "      <td>0</td>\n",
              "    </tr>\n",
              "    <tr>\n",
              "      <th>17</th>\n",
              "      <td>Williams, Mr. Charles Eugene</td>\n",
              "      <td>male</td>\n",
              "      <td>NaN</td>\n",
              "      <td>1</td>\n",
              "    </tr>\n",
              "    <tr>\n",
              "      <th>19</th>\n",
              "      <td>Masselmani, Mrs. Fatima</td>\n",
              "      <td>female</td>\n",
              "      <td>NaN</td>\n",
              "      <td>1</td>\n",
              "    </tr>\n",
              "    <tr>\n",
              "      <th>26</th>\n",
              "      <td>Emir, Mr. Farred Chehab</td>\n",
              "      <td>male</td>\n",
              "      <td>NaN</td>\n",
              "      <td>0</td>\n",
              "    </tr>\n",
              "    <tr>\n",
              "      <th>28</th>\n",
              "      <td>O'Dwyer, Miss. Ellen \"Nellie\"</td>\n",
              "      <td>female</td>\n",
              "      <td>NaN</td>\n",
              "      <td>1</td>\n",
              "    </tr>\n",
              "  </tbody>\n",
              "</table>\n",
              "</div>\n",
              "      <button class=\"colab-df-convert\" onclick=\"convertToInteractive('df-93623a38-b20b-4292-b336-d96d635b8927')\"\n",
              "              title=\"Convert this dataframe to an interactive table.\"\n",
              "              style=\"display:none;\">\n",
              "        \n",
              "  <svg xmlns=\"http://www.w3.org/2000/svg\" height=\"24px\"viewBox=\"0 0 24 24\"\n",
              "       width=\"24px\">\n",
              "    <path d=\"M0 0h24v24H0V0z\" fill=\"none\"/>\n",
              "    <path d=\"M18.56 5.44l.94 2.06.94-2.06 2.06-.94-2.06-.94-.94-2.06-.94 2.06-2.06.94zm-11 1L8.5 8.5l.94-2.06 2.06-.94-2.06-.94L8.5 2.5l-.94 2.06-2.06.94zm10 10l.94 2.06.94-2.06 2.06-.94-2.06-.94-.94-2.06-.94 2.06-2.06.94z\"/><path d=\"M17.41 7.96l-1.37-1.37c-.4-.4-.92-.59-1.43-.59-.52 0-1.04.2-1.43.59L10.3 9.45l-7.72 7.72c-.78.78-.78 2.05 0 2.83L4 21.41c.39.39.9.59 1.41.59.51 0 1.02-.2 1.41-.59l7.78-7.78 2.81-2.81c.8-.78.8-2.07 0-2.86zM5.41 20L4 18.59l7.72-7.72 1.47 1.35L5.41 20z\"/>\n",
              "  </svg>\n",
              "      </button>\n",
              "      \n",
              "  <style>\n",
              "    .colab-df-container {\n",
              "      display:flex;\n",
              "      flex-wrap:wrap;\n",
              "      gap: 12px;\n",
              "    }\n",
              "\n",
              "    .colab-df-convert {\n",
              "      background-color: #E8F0FE;\n",
              "      border: none;\n",
              "      border-radius: 50%;\n",
              "      cursor: pointer;\n",
              "      display: none;\n",
              "      fill: #1967D2;\n",
              "      height: 32px;\n",
              "      padding: 0 0 0 0;\n",
              "      width: 32px;\n",
              "    }\n",
              "\n",
              "    .colab-df-convert:hover {\n",
              "      background-color: #E2EBFA;\n",
              "      box-shadow: 0px 1px 2px rgba(60, 64, 67, 0.3), 0px 1px 3px 1px rgba(60, 64, 67, 0.15);\n",
              "      fill: #174EA6;\n",
              "    }\n",
              "\n",
              "    [theme=dark] .colab-df-convert {\n",
              "      background-color: #3B4455;\n",
              "      fill: #D2E3FC;\n",
              "    }\n",
              "\n",
              "    [theme=dark] .colab-df-convert:hover {\n",
              "      background-color: #434B5C;\n",
              "      box-shadow: 0px 1px 3px 1px rgba(0, 0, 0, 0.15);\n",
              "      filter: drop-shadow(0px 1px 2px rgba(0, 0, 0, 0.3));\n",
              "      fill: #FFFFFF;\n",
              "    }\n",
              "  </style>\n",
              "\n",
              "      <script>\n",
              "        const buttonEl =\n",
              "          document.querySelector('#df-93623a38-b20b-4292-b336-d96d635b8927 button.colab-df-convert');\n",
              "        buttonEl.style.display =\n",
              "          google.colab.kernel.accessAllowed ? 'block' : 'none';\n",
              "\n",
              "        async function convertToInteractive(key) {\n",
              "          const element = document.querySelector('#df-93623a38-b20b-4292-b336-d96d635b8927');\n",
              "          const dataTable =\n",
              "            await google.colab.kernel.invokeFunction('convertToInteractive',\n",
              "                                                     [key], {});\n",
              "          if (!dataTable) return;\n",
              "\n",
              "          const docLinkHtml = 'Like what you see? Visit the ' +\n",
              "            '<a target=\"_blank\" href=https://colab.research.google.com/notebooks/data_table.ipynb>data table notebook</a>'\n",
              "            + ' to learn more about interactive tables.';\n",
              "          element.innerHTML = '';\n",
              "          dataTable['output_type'] = 'display_data';\n",
              "          await google.colab.output.renderOutput(dataTable, element);\n",
              "          const docLink = document.createElement('div');\n",
              "          docLink.innerHTML = docLinkHtml;\n",
              "          element.appendChild(docLink);\n",
              "        }\n",
              "      </script>\n",
              "    </div>\n",
              "  </div>\n",
              "  "
            ]
          },
          "metadata": {},
          "execution_count": 22
        }
      ]
    },
    {
      "cell_type": "markdown",
      "metadata": {
        "id": "iBtPxzIYaqfj"
      },
      "source": [
        "Let's see the statistics of the column **before** the imputation."
      ]
    },
    {
      "cell_type": "code",
      "metadata": {
        "id": "6bAcSvJnZ8tH",
        "colab": {
          "base_uri": "https://localhost:8080/"
        },
        "outputId": "4fe93e0e-1dc9-47dc-dd29-6bdfbd644b7b"
      },
      "source": [
        "df1.Age.describe()"
      ],
      "execution_count": null,
      "outputs": [
        {
          "output_type": "execute_result",
          "data": {
            "text/plain": [
              "count    714.000000\n",
              "mean      29.699118\n",
              "std       14.526497\n",
              "min        0.420000\n",
              "25%       20.125000\n",
              "50%       28.000000\n",
              "75%       38.000000\n",
              "max       80.000000\n",
              "Name: Age, dtype: float64"
            ]
          },
          "metadata": {},
          "execution_count": 23
        }
      ]
    },
    {
      "cell_type": "markdown",
      "metadata": {
        "id": "m_5jWdkGKmo6"
      },
      "source": [
        "Read about [`pandas.Series.fillna`](https://pandas.pydata.org/pandas-docs/stable/reference/api/pandas.Series.fillna.html?highlight=fillna#pandas.Series.fillna). \n",
        " **(T5)** Replace the missing ages `df1` with the general age *median*, and insert the result into variable `filledDf` (the original `df1` should be left unchanged)."
      ]
    },
    {
      "cell_type": "code",
      "metadata": {
        "id": "V_JXxB-9I5OX"
      },
      "source": [
        "# TODO : Fill the missing values\n",
        "filledDf = df1.copy() # We Need to Hard Copy it !!!\n",
        "filledDf.fillna(value=df1.Age.median(),inplace=True)"
      ],
      "execution_count": null,
      "outputs": []
    },
    {
      "cell_type": "code",
      "metadata": {
        "id": "uvoV8S1eKMtU",
        "colab": {
          "base_uri": "https://localhost:8080/"
        },
        "outputId": "4901c141-209d-4d58-e3c2-67cebafeec62"
      },
      "source": [
        "print(\"{} out of {} passengers do not have a recorded age\".format(filledDf[filledDf.Age.isna()].shape[0], filledDf.shape[0]))"
      ],
      "execution_count": null,
      "outputs": [
        {
          "output_type": "stream",
          "name": "stdout",
          "text": [
            "0 out of 891 passengers do not have a recorded age\n"
          ]
        }
      ]
    },
    {
      "cell_type": "code",
      "source": [
        "df1[df1.Age.isna()].head()"
      ],
      "metadata": {
        "colab": {
          "base_uri": "https://localhost:8080/",
          "height": 206
        },
        "id": "V9_BiesKZL9d",
        "outputId": "dc31ee6a-c1ce-4376-84b9-1a6e0595a6c0"
      },
      "execution_count": null,
      "outputs": [
        {
          "output_type": "execute_result",
          "data": {
            "text/plain": [
              "                             Name     Sex  Age  Survived\n",
              "5                Moran, Mr. James    male  NaN         0\n",
              "17   Williams, Mr. Charles Eugene    male  NaN         1\n",
              "19        Masselmani, Mrs. Fatima  female  NaN         1\n",
              "26        Emir, Mr. Farred Chehab    male  NaN         0\n",
              "28  O'Dwyer, Miss. Ellen \"Nellie\"  female  NaN         1"
            ],
            "text/html": [
              "\n",
              "  <div id=\"df-7b94e93e-54ed-4834-a105-0bff553688f5\">\n",
              "    <div class=\"colab-df-container\">\n",
              "      <div>\n",
              "<style scoped>\n",
              "    .dataframe tbody tr th:only-of-type {\n",
              "        vertical-align: middle;\n",
              "    }\n",
              "\n",
              "    .dataframe tbody tr th {\n",
              "        vertical-align: top;\n",
              "    }\n",
              "\n",
              "    .dataframe thead th {\n",
              "        text-align: right;\n",
              "    }\n",
              "</style>\n",
              "<table border=\"1\" class=\"dataframe\">\n",
              "  <thead>\n",
              "    <tr style=\"text-align: right;\">\n",
              "      <th></th>\n",
              "      <th>Name</th>\n",
              "      <th>Sex</th>\n",
              "      <th>Age</th>\n",
              "      <th>Survived</th>\n",
              "    </tr>\n",
              "  </thead>\n",
              "  <tbody>\n",
              "    <tr>\n",
              "      <th>5</th>\n",
              "      <td>Moran, Mr. James</td>\n",
              "      <td>male</td>\n",
              "      <td>NaN</td>\n",
              "      <td>0</td>\n",
              "    </tr>\n",
              "    <tr>\n",
              "      <th>17</th>\n",
              "      <td>Williams, Mr. Charles Eugene</td>\n",
              "      <td>male</td>\n",
              "      <td>NaN</td>\n",
              "      <td>1</td>\n",
              "    </tr>\n",
              "    <tr>\n",
              "      <th>19</th>\n",
              "      <td>Masselmani, Mrs. Fatima</td>\n",
              "      <td>female</td>\n",
              "      <td>NaN</td>\n",
              "      <td>1</td>\n",
              "    </tr>\n",
              "    <tr>\n",
              "      <th>26</th>\n",
              "      <td>Emir, Mr. Farred Chehab</td>\n",
              "      <td>male</td>\n",
              "      <td>NaN</td>\n",
              "      <td>0</td>\n",
              "    </tr>\n",
              "    <tr>\n",
              "      <th>28</th>\n",
              "      <td>O'Dwyer, Miss. Ellen \"Nellie\"</td>\n",
              "      <td>female</td>\n",
              "      <td>NaN</td>\n",
              "      <td>1</td>\n",
              "    </tr>\n",
              "  </tbody>\n",
              "</table>\n",
              "</div>\n",
              "      <button class=\"colab-df-convert\" onclick=\"convertToInteractive('df-7b94e93e-54ed-4834-a105-0bff553688f5')\"\n",
              "              title=\"Convert this dataframe to an interactive table.\"\n",
              "              style=\"display:none;\">\n",
              "        \n",
              "  <svg xmlns=\"http://www.w3.org/2000/svg\" height=\"24px\"viewBox=\"0 0 24 24\"\n",
              "       width=\"24px\">\n",
              "    <path d=\"M0 0h24v24H0V0z\" fill=\"none\"/>\n",
              "    <path d=\"M18.56 5.44l.94 2.06.94-2.06 2.06-.94-2.06-.94-.94-2.06-.94 2.06-2.06.94zm-11 1L8.5 8.5l.94-2.06 2.06-.94-2.06-.94L8.5 2.5l-.94 2.06-2.06.94zm10 10l.94 2.06.94-2.06 2.06-.94-2.06-.94-.94-2.06-.94 2.06-2.06.94z\"/><path d=\"M17.41 7.96l-1.37-1.37c-.4-.4-.92-.59-1.43-.59-.52 0-1.04.2-1.43.59L10.3 9.45l-7.72 7.72c-.78.78-.78 2.05 0 2.83L4 21.41c.39.39.9.59 1.41.59.51 0 1.02-.2 1.41-.59l7.78-7.78 2.81-2.81c.8-.78.8-2.07 0-2.86zM5.41 20L4 18.59l7.72-7.72 1.47 1.35L5.41 20z\"/>\n",
              "  </svg>\n",
              "      </button>\n",
              "      \n",
              "  <style>\n",
              "    .colab-df-container {\n",
              "      display:flex;\n",
              "      flex-wrap:wrap;\n",
              "      gap: 12px;\n",
              "    }\n",
              "\n",
              "    .colab-df-convert {\n",
              "      background-color: #E8F0FE;\n",
              "      border: none;\n",
              "      border-radius: 50%;\n",
              "      cursor: pointer;\n",
              "      display: none;\n",
              "      fill: #1967D2;\n",
              "      height: 32px;\n",
              "      padding: 0 0 0 0;\n",
              "      width: 32px;\n",
              "    }\n",
              "\n",
              "    .colab-df-convert:hover {\n",
              "      background-color: #E2EBFA;\n",
              "      box-shadow: 0px 1px 2px rgba(60, 64, 67, 0.3), 0px 1px 3px 1px rgba(60, 64, 67, 0.15);\n",
              "      fill: #174EA6;\n",
              "    }\n",
              "\n",
              "    [theme=dark] .colab-df-convert {\n",
              "      background-color: #3B4455;\n",
              "      fill: #D2E3FC;\n",
              "    }\n",
              "\n",
              "    [theme=dark] .colab-df-convert:hover {\n",
              "      background-color: #434B5C;\n",
              "      box-shadow: 0px 1px 3px 1px rgba(0, 0, 0, 0.15);\n",
              "      filter: drop-shadow(0px 1px 2px rgba(0, 0, 0, 0.3));\n",
              "      fill: #FFFFFF;\n",
              "    }\n",
              "  </style>\n",
              "\n",
              "      <script>\n",
              "        const buttonEl =\n",
              "          document.querySelector('#df-7b94e93e-54ed-4834-a105-0bff553688f5 button.colab-df-convert');\n",
              "        buttonEl.style.display =\n",
              "          google.colab.kernel.accessAllowed ? 'block' : 'none';\n",
              "\n",
              "        async function convertToInteractive(key) {\n",
              "          const element = document.querySelector('#df-7b94e93e-54ed-4834-a105-0bff553688f5');\n",
              "          const dataTable =\n",
              "            await google.colab.kernel.invokeFunction('convertToInteractive',\n",
              "                                                     [key], {});\n",
              "          if (!dataTable) return;\n",
              "\n",
              "          const docLinkHtml = 'Like what you see? Visit the ' +\n",
              "            '<a target=\"_blank\" href=https://colab.research.google.com/notebooks/data_table.ipynb>data table notebook</a>'\n",
              "            + ' to learn more about interactive tables.';\n",
              "          element.innerHTML = '';\n",
              "          dataTable['output_type'] = 'display_data';\n",
              "          await google.colab.output.renderOutput(dataTable, element);\n",
              "          const docLink = document.createElement('div');\n",
              "          docLink.innerHTML = docLinkHtml;\n",
              "          element.appendChild(docLink);\n",
              "        }\n",
              "      </script>\n",
              "    </div>\n",
              "  </div>\n",
              "  "
            ]
          },
          "metadata": {},
          "execution_count": 26
        }
      ]
    },
    {
      "cell_type": "markdown",
      "metadata": {
        "id": "5dBIJckKbFoz"
      },
      "source": [
        "Let's see the statistics of the column **after** the imputation."
      ]
    },
    {
      "cell_type": "code",
      "metadata": {
        "id": "7ruT3GwSbTLY",
        "colab": {
          "base_uri": "https://localhost:8080/"
        },
        "outputId": "6942c618-ff0d-469b-c9b7-4bba6f3b8fb9"
      },
      "source": [
        "filledDf.Age.describe()"
      ],
      "execution_count": null,
      "outputs": [
        {
          "output_type": "execute_result",
          "data": {
            "text/plain": [
              "count    891.000000\n",
              "mean      29.361582\n",
              "std       13.019697\n",
              "min        0.420000\n",
              "25%       22.000000\n",
              "50%       28.000000\n",
              "75%       35.000000\n",
              "max       80.000000\n",
              "Name: Age, dtype: float64"
            ]
          },
          "metadata": {},
          "execution_count": 27
        }
      ]
    },
    {
      "cell_type": "code",
      "metadata": {
        "colab": {
          "base_uri": "https://localhost:8080/"
        },
        "outputId": "ca6c0879-8040-490a-d2c7-dd70fd744afa",
        "id": "WiOwrXuLcp8K"
      },
      "source": [
        "df1.Age.describe()"
      ],
      "execution_count": null,
      "outputs": [
        {
          "output_type": "execute_result",
          "data": {
            "text/plain": [
              "count    714.000000\n",
              "mean      29.699118\n",
              "std       14.526497\n",
              "min        0.420000\n",
              "25%       20.125000\n",
              "50%       28.000000\n",
              "75%       38.000000\n",
              "max       80.000000\n",
              "Name: Age, dtype: float64"
            ]
          },
          "metadata": {},
          "execution_count": 28
        }
      ]
    },
    {
      "cell_type": "markdown",
      "metadata": {
        "id": "1pQsWKpDezGi"
      },
      "source": [
        " **(T6)** Answer below: which statistics changed, and which have not? Why? (explain briefly, no need to be very formal.)"
      ]
    },
    {
      "cell_type": "markdown",
      "metadata": {
        "id": "yVOgSFVRe7cu"
      },
      "source": [
        "**Answer:** \n",
        "What we did? we addded data \"at the middle of the distribution\", thus clearly the Max and Min haven't changed.\n",
        "In every missing place we inserted the median(=28) while the mean was ~29. Thus clearly the median value has'nt changed and the mean get lower. In addition adding data which is close to mean and median got the 25% and 75% values closer to \"the center\" of the distribution, i.e. 25% got higer and 75% lower.\n",
        "Of course that count changed (more data)"
      ]
    },
    {
      "cell_type": "markdown",
      "metadata": {
        "id": "Op064-8s2aqW"
      },
      "source": [
        "## Plotting\n",
        "Basic plotting in pandas is pretty straightforward"
      ]
    },
    {
      "cell_type": "code",
      "metadata": {
        "id": "a8AONyPK2aqY",
        "colab": {
          "base_uri": "https://localhost:8080/",
          "height": 433
        },
        "outputId": "ac2e3a25-90b3-4dee-f785-2dfb119f88c5"
      },
      "source": [
        "new_plot = pd.crosstab([train.Pclass, train.Sex], train.Survived, normalize=\"index\")\n",
        "new_plot.plot(kind='bar', stacked=True, grid=False, figsize=(10,6))\n",
        "plt.yticks(np.linspace(0,1,21))\n",
        "plt.grid()"
      ],
      "execution_count": null,
      "outputs": [
        {
          "output_type": "display_data",
          "data": {
            "text/plain": [
              "<Figure size 720x432 with 1 Axes>"
            ],
            "image/png": "[encoded data removed]"
          },
          "metadata": {
            "needs_background": "light"
          }
        }
      ]
    },
    {
      "cell_type": "markdown",
      "metadata": {
        "id": "EwMXqkhpfN3d"
      },
      "source": [
        " **(T7)** Answer below: which group (class $\\times$ sex) had the best survival rate? Which had the worst?"
      ]
    },
    {
      "cell_type": "markdown",
      "source": [
        "**Answer:** \n",
        "Best Surviving rate has the 1st class female group.\n",
        "Worst surviving rate has the 3rd class male group."
      ],
      "metadata": {
        "id": "FVFnoa1c36RL"
      }
    },
    {
      "cell_type": "markdown",
      "metadata": {
        "id": "uJGeuhhV2aqi"
      },
      "source": [
        "# What is Matplotlib\n",
        "\n",
        "A 2D plotting library which produces publication quality figures.\n",
        " - Can be used in python scripts, the python and IPython shell, web application servers, and more ג€¦\n",
        " - Can be used to generate plots, histograms, power spectra, bar charts, errorcharts, scatterplots, etc.\n",
        " - For simple plotting, pyplot provides a MATLAB-like interface \n",
        " - For power users, a full control via OO interface or via a set of functions\n",
        "\n",
        "There are several Matplotlib add-on toolkits\n",
        " - Projection and mapping toolkits [basemap](http://matplotlib.org/basemap/) and [cartopy](http://scitools.org.uk/cartopy/).\n",
        " - Interactive plots in web browsers using [Bokeh](http://bokeh.pydata.org/en/latest/).\n",
        " - Higher level interface with updated visualizations [Seaborn](http://seaborn.pydata.org/index.html).\n",
        "\n",
        "Matplotlib is available at [www.matplotlib.org](www.matplotlib.org)"
      ]
    },
    {
      "cell_type": "code",
      "metadata": {
        "id": "Y0ixhvQS2aql"
      },
      "source": [
        "import matplotlib.pyplot as plt\n",
        "import numpy as np"
      ],
      "execution_count": null,
      "outputs": []
    },
    {
      "cell_type": "markdown",
      "metadata": {
        "id": "JU4i6qIk2aqj"
      },
      "source": [
        "## Line Plots"
      ]
    },
    {
      "cell_type": "markdown",
      "metadata": {
        "id": "-2Bc8EAPS5ZR"
      },
      "source": [
        "The following code plots the survival rate per age group (computed above, before the imputation).\n",
        "\n",
        " **(T8)** Use the [matplotlib documentation](https://matplotlib.org/) to add a grid and suitable axis labels to the following plot."
      ]
    },
    {
      "cell_type": "code",
      "source": [
        "survivalPerAgeGroup.Age"
      ],
      "metadata": {
        "colab": {
          "base_uri": "https://localhost:8080/"
        },
        "id": "Ts1a-yqRdlvL",
        "outputId": "856b72c7-5133-4b93-ca1a-912296e91089"
      },
      "execution_count": null,
      "outputs": [
        {
          "output_type": "execute_result",
          "data": {
            "text/plain": [
              "Age\n",
              "(0, 10]      4.268281\n",
              "(10, 20]    17.317391\n",
              "(20, 30]    25.423913\n",
              "(30, 40]    35.051613\n",
              "(40, 50]    45.372093\n",
              "(50, 60]    54.892857\n",
              "(60, 70]    63.882353\n",
              "(70, 80]    73.300000\n",
              "Name: Age, dtype: float64"
            ]
          },
          "metadata": {},
          "execution_count": 30
        }
      ]
    },
    {
      "cell_type": "code",
      "metadata": {
        "id": "cSCDtmYzSUmb",
        "colab": {
          "base_uri": "https://localhost:8080/",
          "height": 312
        },
        "outputId": "39b84438-b90d-4943-e017-33c672c2ceed"
      },
      "source": [
        "fig, ax = plt.subplots()\n",
        "plt.plot(survivalPerAgeGroup.Age, survivalPerAgeGroup.Survived)\n",
        "_ = plt.title(\"Survival per age group\")\n",
        "# TODO : Update the plot as required.\n",
        "ax.grid()\n",
        "ax.set_xlabel('age group')\n",
        "ax.set_ylabel('Survival rate')\n",
        "\n"
      ],
      "execution_count": null,
      "outputs": [
        {
          "output_type": "execute_result",
          "data": {
            "text/plain": [
              "Text(0, 0.5, 'Survival rate')"
            ]
          },
          "metadata": {},
          "execution_count": 31
        },
        {
          "output_type": "display_data",
          "data": {
            "text/plain": [
              "<Figure size 432x288 with 1 Axes>"
            ],
            "image/png": "[encoded data removed]"
          },
          "metadata": {
            "needs_background": "light"
          }
        }
      ]
    },
    {
      "cell_type": "markdown",
      "metadata": {
        "id": "HOfPan8W2arb"
      },
      "source": [
        "\n",
        "## Scatter plots"
      ]
    },
    {
      "cell_type": "markdown",
      "metadata": {
        "id": "txMG5DT7U_nP"
      },
      "source": [
        " **(T9)** Alter the [matplotlib.pyplot.scatter](https://matplotlib.org/stable/api/_as_gen/matplotlib.pyplot.scatter.html) command, so that the scattered dots will be `green`, and their size will be `5`.\n",
        "\n",
        "Also, add a grid and suitable axis labels."
      ]
    },
    {
      "cell_type": "code",
      "metadata": {
        "id": "oMOAxO1aR-VX",
        "colab": {
          "base_uri": "https://localhost:8080/",
          "height": 405
        },
        "outputId": "1169a5a9-e334-4010-a132-3b9850470989"
      },
      "source": [
        "# TODO : Update the plot as required.\n",
        "fig,ax =plt.subplots(figsize=(10,6))\n",
        "# plt.subplots(figsize=(6, 2))\n",
        "\n",
        "# ax.figure(figsize=(10,6))\n",
        "ax.scatter(train.Age, train.Fare,c=\"g\")\n",
        "ax.grid()\n",
        "ax.set_xlabel('age')\n",
        "ax.set_ylabel('Fare')\n",
        "# fig.figsize(10,6)"
      ],
      "execution_count": null,
      "outputs": [
        {
          "output_type": "execute_result",
          "data": {
            "text/plain": [
              "Text(0, 0.5, 'Fare')"
            ]
          },
          "metadata": {},
          "execution_count": 63
        },
        {
          "output_type": "display_data",
          "data": {
            "text/plain": [
              "<Figure size 720x432 with 1 Axes>"
            ],
            "image/png": "[encoded data removed]"
          },
          "metadata": {
            "needs_background": "light"
          }
        }
      ]
    },
    {
      "cell_type": "markdown",
      "metadata": {
        "id": "Xd6iimntjGkF"
      },
      "source": [
        "**(T10)** Answer below: approximately how old are the two highest paying passengers?"
      ]
    },
    {
      "cell_type": "markdown",
      "metadata": {
        "id": "AMaNCCOu27uA"
      },
      "source": [
        "**Answer:** They both around 35 year old."
      ]
    },
    {
      "cell_type": "markdown",
      "metadata": {
        "id": "V_zTkaWys3GH"
      },
      "source": [
        "----\n",
        "\n",
        "# Probability refresher\n",
        "\n",
        "## Q1 - Variance of empirical mean\n",
        "\n",
        "Let $X_1, \\dots, X_m$ be i.i.d random variables with mean $\\mathbb{E}\\left[X_i\\right]=\\mu$ and variance $\\text{Var}\\left(X_i \\right)=\\sigma^2$. \n",
        "We would like to \"guess\", or more formally, estimate (׳ײ°׳©׳ײ·׳¢ײ²׳¨ײµ׳ײ°), the mean $\\mu$ from the observations $x_1,\\dots,x_m$. \n",
        "We use the empirical mean $\\overline{X} = \\frac{1}{m}\\sum_i X_i$ as an estimator for the unknown mean $\\mu$. Notice that $\\overline{X}$ is itself a random variable. \n",
        "**Note:** The instantiation of $\\overline{X}$ is usually denoted by $\\hat{\\mu}=\\frac{1}{m}\\sum_i x_i$, but this is currently out of scope.\n",
        "\n",
        "1. Express analytically the expectation of $\\overline{X}$. \n",
        " **Answer:** TODO\n",
        "\n",
        "2. Express analytically the variance of $\\overline{X}$. \n",
        " **Answer:** TODO\n",
        "![q1.png](data:image/png;base64,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)\n",
        "\n",
        "\n",
        "You will now verify the expression you wrote for the variance. \n",
        "We assume $\\forall i: X_i\\sim\\mathcal{N}\\left(0, 1\\right)$. \n",
        "We compute the empirical mean's variances for sample sizes $m=1,\\dots,25$. \n",
        "For each sample size $m$, we sample $m$ normal variables and compute their empirical mean. We repeat this step $100$ times, and compute the variance of the empirical means (for each $m$).\n",
        "\n",
        "3. Complete the code blocks below according to the instructions and verify that your analytic function of the empirical mean's variance against as a function of $m$ suits the empirical findings.\n"
      ]
    },
    {
      "cell_type": "code",
      "metadata": {
        "id": "xiGAh0j-Ks0R"
      },
      "source": [
        "all_sample_sizes = range(1, 26)\n",
        "repeats_per_size = 100\n",
        "\n",
        "allVariances = []\n",
        "\n",
        "for m in all_sample_sizes:\n",
        " empiricalMeans = []\n",
        " \n",
        " for _ in range(repeats_per_size):\n",
        " # Random m examples and compute their empirical mean\n",
        "  X = np.random.randn(m)\n",
        "  empiricalMeans.append(np.mean(X))\n",
        "  # TODO: Using numpy, compute the variance of the empirical means that are in \n",
        "  # the `empiricalMeans` list (you can google the numpy function for variance)\n",
        " variance = np.var(empiricalMeans)\n",
        " allVariances.append(variance)"
      ],
      "execution_count": null,
      "outputs": []
    },
    {
      "cell_type": "markdown",
      "metadata": {
        "id": "lm3DEBs_VsqD"
      },
      "source": [
        "Complete the following computation of the anayltic variance (according to the your answers above).\n",
        "You can try to use simple arithmetic operations between an `np.array` and a scalar, and see what happens! (for instance, `2 * np.array(all_sample_sizes)`.)"
      ]
    },
    {
      "cell_type": "code",
      "metadata": {
        "id": "5LuqLzIHN-6i"
      },
      "source": [
        "# TODO: compute the analytic variance \n",
        "# (the current command wrongfully sets the variance of an empirical mean \n",
        "# of a sample with m variables simply as m)\n",
        "analyticVariance = 1/np.array(all_sample_sizes).astype(float)"
      ],
      "execution_count": null,
      "outputs": []
    },
    {
      "cell_type": "markdown",
      "metadata": {
        "id": "Ux0beQNZWHQL"
      },
      "source": [
        "The following code plots the results from the above code. **Do not** edit it, only run it."
      ]
    },
    {
      "cell_type": "code",
      "metadata": {
        "id": "1zM2cnVvL18Z",
        "colab": {
          "base_uri": "https://localhost:8080/",
          "height": 373
        },
        "outputId": "3e2f069b-480f-46d7-9056-9dd17fc436b4"
      },
      "source": [
        "fig, axes = plt.subplots(1,2, figsize=(15,5))\n",
        "axes[0].plot(all_sample_sizes, allVariances, label=\"Empiric\")\n",
        "axes[0].plot(all_sample_sizes, analyticVariance, label=\"Analytic\")\n",
        "axes[0].grid()\n",
        "axes[0].legend(fontsize=14)\n",
        "axes[0].set_title(\"Regular scale\", fontsize=14)\n",
        "axes[0].set_xlabel(\"Sample size (m)\", fontsize=12)\n",
        "axes[0].set_ylabel(\"Variance\", fontsize=12)\n",
        "\n",
        "axes[1].semilogy(all_sample_sizes, allVariances, label=\"Empiric\")\n",
        "axes[1].semilogy(all_sample_sizes, analyticVariance, label=\"Analytic\")\n",
        "axes[1].grid()\n",
        "axes[1].legend(fontsize=14)\n",
        "axes[1].set_title(\"Log scale\", fontsize=14)\n",
        "axes[1].set_xlabel(\"Sample size (m)\", fontsize=12)\n",
        "axes[1].set_ylabel(\"Variance\", fontsize=12)\n",
        "\n",
        "_ = plt.suptitle(\"Empirical mean's variance vs. Sample size\", \n",
        " fontsize=16, fontweight=\"bold\")"
      ],
      "execution_count": null,
      "outputs": [
        {
          "output_type": "display_data",
          "data": {
            "text/plain": [
              "<Figure size 1080x360 with 2 Axes>"
            ],
            "image/png": "[encoded data removed]"
          },
          "metadata": {
            "needs_background": "light"
          }
        }
      ]
    },
    {
      "cell_type": "markdown",
      "metadata": {
        "id": "4e1sVgZXXwWu"
      },
      "source": [
        "## Reminder - Hoeffding's Inequality\n",
        "Let $\\theta_1, \\dots, \\theta_m$ be i.i.d random variables with mean $\\mathbb{E}\\left[\\theta_i\\right]=\\mu$.\n",
        "\n",
        "Additionally, assume all variables are bound such that $\\Pr\\left[a\\le \\theta_i \\le b\\right] = 1$.\n",
        "\n",
        "Then, for any $\\epsilon > 0$, the empirical mean $\\overline{\\theta} = \\frac{1}{m}\\sum_i \\theta_i$ holds:\n",
        "$$\\Pr\\left[\\left| \\overline{\\theta}-\\mu \\right| > \\epsilon\\right] \n",
        "\\le \n",
        "2\\exp\\left\\{-\\frac{2m\\epsilon^2}{\\left(b-a\\right)^2}\\right\\}~.$$\n",
        "\n",
        "\n",
        "## Q2 - Identical coins and the Hoeffding bound\n",
        "We toss $m\\in\\mathbb{N}$ identical coins, each coin $50$ times. \n",
        "All coins have the same *unknown* probability of showing \"heads\", denoted by $נ‘ גˆˆ (0,1)$. \n",
        "Let $\\theta_נ‘–$ be the (observed) number of times the $i$-th coin showed \"heads\". \n"
      ]
    },
    {
      "cell_type": "markdown",
      "metadata": {
        "id": "O7N-MbZP9D_-"
      },
      "source": [
        "1. What is the distribution of each $\\theta_נ‘–$? \n",
        " **Answer:** TODO\n",
        " \n",
        "2. What is the mean $\\mu = \\mathbb{E}\\left[\\theta_נ‘–\\right]$? \n",
        " **Answer:** TODO\n",
        "\n",
        "3. We would like to use the empirical mean defined above as an estimator $\\overline{\\theta}$ for $\\mu$. \n",
        "Use Hoeffdingג€™s inequality to compute the *smallest* error $\\epsilon$\n",
        "that can be guaranteed with\n",
        "confidence $0.95$ using $m=100$ samples\n",
        "(notice that we wish to estimate $\\mu$, not $p$). \n",
        "That is, find the smallest $\\epsilon$ that holds \n",
        "$\\Pr\\left[\\left| \\overline{\\theta}-\\mu \\right| > \\epsilon\\right] \\le 0.05$ given $m=100$ samples (find $\\epsilon$ up to 2 decimal points). \n",
        " **Answer:** \n",
        "\n",
        "![q2.png](data:image/png;base64,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)\n"
      ]
    },
    {
      "cell_type": "markdown",
      "metadata": {
        "id": "7iKJfOKkk5wC"
      },
      "source": [
        "4. The following code simulates tossing $m=10^4$ coins, each $50$ times. For each coin, we use the empirical mean as the estimator and save it in the `all_estimators` array. The (unknown) probability of each coin is $0.7$. \n",
        "Complete the missing part so that for each coin, an array of $50$ binary `observations` will be randomized according to the probability $p$."
      ]
    },
    {
      "cell_type": "code",
      "metadata": {
        "id": "7dTNn2yabsI8"
      },
      "source": [
        "m = 10**4\n",
        "tosses = 50\n",
        "p = 0.7\n",
        "all_estimators = []\n",
        "\n",
        "# Repeat for n coins\n",
        "for coin in range(m):\n",
        " # TODO: Use Google to find a suitable numpy.random function that creates \n",
        " # a binary array of size (tosses,), where each element is 1 \n",
        " # with probability p, and 0 with probability (1-p).\n",
        " observations = np.random.binomial(1,p,tosses)\n",
        " # Compute and save the empirical mean\n",
        " estimator = np.mean(observations)\n",
        " all_estimators.append(estimator)"
      ],
      "execution_count": null,
      "outputs": []
    },
    {
      "cell_type": "markdown",
      "metadata": {
        "id": "x5zNKioX7Jsm"
      },
      "source": [
        "5. The following code plots the histogram of the estimators (empirical means). Run it. What type of distribution is obtained (no need to specify the exact paramters of the distribution)? Explain **briefly** what theorem from probability explains this behavior (and why). \n",
        "\n",
        " **Answer:** \n",
        " The empirical mean obtained a normal distribution with mean of 0.7. \n",
        " The result support the Law of large numbers. The law states that as the number of identically distributed, randomly generated variables increases, their sample mean (average) approaches their theoretical mean"
      ]
    },
    {
      "cell_type": "code",
      "metadata": {
        "id": "TfZb4dbFb7mN",
        "colab": {
          "base_uri": "https://localhost:8080/",
          "height": 265
        },
        "outputId": "af60281a-a32e-4360-cfe9-ad9335adc6c3"
      },
      "source": [
        "import seaborn as sns\n",
        "sns.histplot(all_estimators, bins=100, kde=True) \n",
        "plt.grid()"
      ],
      "execution_count": null,
      "outputs": [
        {
          "output_type": "display_data",
          "data": {
            "text/plain": [
              "<Figure size 432x288 with 1 Axes>"
            ],
            "image/png": "[encoded data removed]"
          },
          "metadata": {
            "needs_background": "light"
          }
        }
      ]
    },
    {
      "cell_type": "markdown",
      "metadata": {
        "id": "D3y1WBQL-egt"
      },
      "source": [
        "----\n",
        "# Numerical linear algebera refresher\n",
        "\n",
        "## Reminder - Positive semi-definite matrices\n",
        "\n",
        "A symmetric real matrix $A\\in\\mathbb{R}^{n \\times n}$ is called positive semi-definite (PSD) iff:\n",
        "$$\\forall x\\in\\mathbb{R}^n \\setminus{\\left\\{0_n\\right\\}}: x^\\top A x \\ge 0.$$\n",
        "If the matrix holds the above inequality *strictly*, the matrix is called positive definite.\n",
        "\n",
        "## Q3 - PSD matrices\n",
        "1. Let $A\\in\\mathbb{R}^{n \\times n}$ be a symmetric PSD matrix.\n",
        "Recall that all eigenvalues of real symmetric matrices are real. \n",
        "Prove that all the eigenvalues of $A$ are non-negative. \n",
        "\n",
        "2. Let $A,B\\in\\mathbb{R}^{n \\times n}$ be two symmetric PSD matrices. \n",
        " **Prove or refute:** the matrix $A+B$ is also PSD.\n",
        "\n",
        " ![image.png](data:image/png;base64,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)"
      ]
    },
    {
      "cell_type": "markdown",
      "metadata": {
        "id": "rAVuS_XTQQjz"
      },
      "source": [
        "## Q4 - Gradients\n",
        "\n",
        "Define $f:\\mathbb{R}^{d}\\to\\mathbb{R}$, where $f(w)=w^\\top x + b$, for some vector $w\\in\\mathbb{R}^{d}$ and a scalar $b\\in\\mathbb{R}$.\n",
        "\n",
        "Recall: the gradient vector is defined as \n",
        "$\\nabla_w f=\\left[\\frac{\\partial f}{\\partial w_1},\\dots,\\frac{\\partial f}{\\partial w_d}\\right]^\\top \\in \\mathbb{R}^d$.\n",
        "1. Prove that $\\nabla_w f = x$.\n",
        "\n",
        "Recall/read the definition of the [Hessian matrix](https://en.wikipedia.org/wiki/Hessian_matrix#Definitions_and_properties) $\\nabla_w^2 f \\in \\mathbb{R}^{d\\times d}$.\n",
        "2. Find the Hessian matrix $\\nabla_w^2 f$ of the function $f$ defined in this question.\n",
        "3. Is the matrix you found positive semi-definite? Explain.\n",
        "\n",
        "Now, define $g:\\mathbb{R}^{d}\\to\\mathbb{R}$, \n",
        "where $g(w)=\\left\\Vert w \\right\\Vert^2$.\n",
        "\n",
        "4. Find the gradient vector $\\nabla_w g$.\n",
        "5. Find the Hessian matrix $\\nabla_w^2 g$.\n",
        "6. Is the matrix you found positive semi-definite? Explain.\n",
        "\n",
        "![Q4.png](data:image/png;base64,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)"
      ]
    }
  ]
}